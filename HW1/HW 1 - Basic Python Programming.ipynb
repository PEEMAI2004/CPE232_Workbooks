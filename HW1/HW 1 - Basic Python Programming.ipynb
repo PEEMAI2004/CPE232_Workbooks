{
 "cells": [
  {
   "cell_type": "markdown",
   "id": "64e93d7b-1c77-47d7-b3e0-f77cca1258b7",
   "metadata": {},
   "source": [
    "# HW 1: Basic Python Programming\n",
    "#### CPE232 Data Models\n",
    "---"
   ]
  },
  {
   "cell_type": "markdown",
   "id": "ccb5a923-50cb-4347-8241-904c8d3bd6f5",
   "metadata": {},
   "source": [
    "## 1. Basic usage"
   ]
  },
  {
   "cell_type": "markdown",
   "id": "fc437319-7d8c-42a6-90a3-c027dd394f55",
   "metadata": {},
   "source": [
    "John Doe is a 29 years-old system engineer who earns ฿41500.00 a month."
   ]
  },
  {
   "cell_type": "markdown",
   "id": "e916ec77-882f-4770-a876-8034e505d987",
   "metadata": {},
   "source": [
    "Create and assign variables to store this person's information (name, age, position and salary)."
   ]
  },
  {
   "cell_type": "code",
   "execution_count": 120,
   "id": "c82ab750-42b1-4942-9126-e78858848259",
   "metadata": {},
   "outputs": [
    {
     "name": "stdout",
     "output_type": "stream",
     "text": [
      "('John Doe', 29, 'system engineer', 41500.0)\n"
     ]
    }
   ],
   "source": [
    "# Write your code here\n",
    "\n",
    "\n",
    "tuple = (\"John Doe\", 29, \"system engineer\", 41500.00)\n",
    "print(tuple)"
   ]
  },
  {
   "cell_type": "markdown",
   "id": "5276310d-91d8-462a-855f-713c14a399b3",
   "metadata": {},
   "source": [
    "What is the type of each variables?"
   ]
  },
  {
   "cell_type": "code",
   "execution_count": 121,
   "id": "51ff9507-b6ed-4fc9-bae8-32679f0ffe0f",
   "metadata": {},
   "outputs": [
    {
     "name": "stdout",
     "output_type": "stream",
     "text": [
      "John Doe is <class 'str'>\n",
      "29 is <class 'int'>\n",
      "system engineer is <class 'str'>\n",
      "41500.0 is <class 'float'>\n"
     ]
    }
   ],
   "source": [
    "# Write your code here\n",
    "# Type of each element in the tuple\n",
    "for i in range(len(tuple)):\n",
    "    print(f\"{tuple[i]} is {type(tuple[i])}\")"
   ]
  },
  {
   "cell_type": "markdown",
   "id": "e9af1002-80de-4b0b-aa53-4c555f270349",
   "metadata": {},
   "source": [
    "The manager decides to give John a 7% raise. Update his salary."
   ]
  },
  {
   "cell_type": "code",
   "execution_count": 122,
   "id": "aacfb035-65b9-47b5-9980-19ea9e325051",
   "metadata": {},
   "outputs": [],
   "source": [
    "# Write your code here\n",
    "tuple = (tuple[0], tuple[1], tuple[2], tuple[3] * 107 / 100)"
   ]
  },
  {
   "cell_type": "markdown",
   "id": "b38d04d0-c43b-44c5-9a37-11d7a768a124",
   "metadata": {},
   "source": [
    "Prints his information again with his new salary."
   ]
  },
  {
   "cell_type": "code",
   "execution_count": 123,
   "id": "04699250-3a2e-43e4-a84c-2a5cbcf38c36",
   "metadata": {},
   "outputs": [
    {
     "name": "stdout",
     "output_type": "stream",
     "text": [
      "('John Doe', 29, 'system engineer', 44405.0)\n"
     ]
    }
   ],
   "source": [
    "# Write your code here\n",
    "print(tuple)"
   ]
  },
  {
   "cell_type": "markdown",
   "id": "590d49a7-eac2-434b-b73f-af1d2f13cca6",
   "metadata": {},
   "source": [
    "Now, he decides to resign. Delete his information from the system."
   ]
  },
  {
   "cell_type": "code",
   "execution_count": 124,
   "id": "f7f06b90-67cf-4e04-be79-deb29cfabdb1",
   "metadata": {},
   "outputs": [
    {
     "name": "stdout",
     "output_type": "stream",
     "text": [
      "<class 'tuple'>\n"
     ]
    }
   ],
   "source": [
    "# Write your code here\n",
    "del tuple\n",
    "print(tuple)"
   ]
  },
  {
   "cell_type": "markdown",
   "id": "077aee58-d6d1-4262-bef9-4e9a9a82a800",
   "metadata": {},
   "source": [
    "## 2. Variable and Expression"
   ]
  },
  {
   "cell_type": "markdown",
   "id": "af79a9e3-db50-456c-841e-eef66ef246a9",
   "metadata": {},
   "source": [
    "**2.1** Write a code to convert temperature unit from celcius to other units"
   ]
  },
  {
   "cell_type": "code",
   "execution_count": 125,
   "id": "8dfd591f-41f0-4b73-b770-fbcf60eb983a",
   "metadata": {},
   "outputs": [],
   "source": [
    "C = 34.5"
   ]
  },
  {
   "cell_type": "markdown",
   "id": "afd0633b-76ca-4ab8-b61c-7e1f8fdf724b",
   "metadata": {},
   "source": [
    "**Fahrenheit**  \n",
    "#### $\\frac{C}{5} = \\frac{F-32}{9}$"
   ]
  },
  {
   "cell_type": "code",
   "execution_count": 126,
   "id": "93e1649c-5724-4842-b121-82bdd2922a1b",
   "metadata": {},
   "outputs": [
    {
     "name": "stdout",
     "output_type": "stream",
     "text": [
      "94.1\n"
     ]
    }
   ],
   "source": [
    "F = C * 9 / 5 + 32\n",
    "print(F)"
   ]
  },
  {
   "cell_type": "markdown",
   "id": "05017521-6d16-4d65-a100-e9c94e49f9d6",
   "metadata": {},
   "source": [
    "**Kelvin**  \n",
    "$K = C + 273.15$"
   ]
  },
  {
   "cell_type": "code",
   "execution_count": 127,
   "id": "0790d13f-3a85-4bb7-b341-3796e7d81816",
   "metadata": {},
   "outputs": [
    {
     "name": "stdout",
     "output_type": "stream",
     "text": [
      "307.65\n"
     ]
    }
   ],
   "source": [
    "K = C + 273.15\n",
    "print(K)"
   ]
  },
  {
   "cell_type": "markdown",
   "id": "3aafb9c3-7135-4730-9f72-41919a7bf8aa",
   "metadata": {},
   "source": [
    "**Rømer**  \n",
    "#### $Ro = \\frac{C \\times 21}{40} + 7.5$"
   ]
  },
  {
   "cell_type": "code",
   "execution_count": 128,
   "id": "f77ad9dd-966e-4e6e-974e-64f1796f9d2e",
   "metadata": {},
   "outputs": [
    {
     "name": "stdout",
     "output_type": "stream",
     "text": [
      "25.6125\n"
     ]
    }
   ],
   "source": [
    "Ro = C * 21 / 40 + 7.5\n",
    "print(Ro)"
   ]
  },
  {
   "cell_type": "markdown",
   "id": "46be05e7-89f8-4461-989d-017343872b4a",
   "metadata": {
    "tags": []
   },
   "source": [
    "## 3. Multi-item variables\n",
    "#### List"
   ]
  },
  {
   "cell_type": "code",
   "execution_count": 13,
   "id": "bcf35687-0b65-4958-ac2b-e24627ef68d1",
   "metadata": {},
   "outputs": [],
   "source": [
    "names = ['Thomas', 'Kate', 'Mike', 'Amelia', 'James', 'Megan']"
   ]
  },
  {
   "cell_type": "markdown",
   "id": "448e0cac-5140-4c01-ae36-6483e68d538b",
   "metadata": {},
   "source": [
    "Create new variable call `new_name` which takes input name of the user."
   ]
  },
  {
   "cell_type": "code",
   "execution_count": 14,
   "id": "ae8b5b8e-5718-4d6b-923d-8d3c1562c845",
   "metadata": {},
   "outputs": [],
   "source": [
    "new_name = input('Enter your name: ')"
   ]
  },
  {
   "cell_type": "markdown",
   "id": "46726149-c092-45ab-ae91-a3505ff28f81",
   "metadata": {},
   "source": [
    "Insert `new_name` into `names` list."
   ]
  },
  {
   "cell_type": "code",
   "execution_count": 15,
   "id": "4f757eb7-5658-490e-b523-cb1c880db7fd",
   "metadata": {},
   "outputs": [
    {
     "name": "stdout",
     "output_type": "stream",
     "text": [
      "['Thomas', 'Kate', 'Mike', 'Amelia', 'James', 'Megan', 'Kamin']\n"
     ]
    }
   ],
   "source": [
    "# Write your code here\n",
    "names.append(new_name)\n",
    "print(names)\n"
   ]
  },
  {
   "cell_type": "markdown",
   "id": "4600f46e-4a21-41f7-a4b1-00e5921e134b",
   "metadata": {},
   "source": [
    "Select your name from the list"
   ]
  },
  {
   "cell_type": "code",
   "execution_count": 18,
   "id": "cbae27d8-6dda-45ae-9839-6513d1086384",
   "metadata": {},
   "outputs": [
    {
     "name": "stdout",
     "output_type": "stream",
     "text": [
      "Kamin\n"
     ]
    }
   ],
   "source": [
    "# Write your code here\n",
    "print(names[len(names) - 1])"
   ]
  },
  {
   "cell_type": "markdown",
   "id": "5114e655-d67e-428b-a179-1ef8cec4da28",
   "metadata": {},
   "source": [
    "Merge `another_names` into `names`."
   ]
  },
  {
   "cell_type": "code",
   "execution_count": 133,
   "id": "330ecf29-1771-427d-a16f-f515994c617c",
   "metadata": {},
   "outputs": [],
   "source": [
    "another_names = ['Peter', 'Steve', 'Sam', 'Charlotte']"
   ]
  },
  {
   "cell_type": "code",
   "execution_count": 134,
   "id": "35bd286b-2303-45a4-90ec-17a84d1a91c6",
   "metadata": {},
   "outputs": [
    {
     "name": "stdout",
     "output_type": "stream",
     "text": [
      "['Thomas', 'Kate', 'Mike', 'Amelia', 'James', 'Megan', 'Kamin', 'Peter', 'Steve', 'Sam', 'Charlotte']\n"
     ]
    }
   ],
   "source": [
    "# Write your code here\n",
    "names.extend(another_names)\n",
    "print(names)"
   ]
  },
  {
   "cell_type": "markdown",
   "id": "8326fcba-7997-42b4-979e-ef7dee45c1d4",
   "metadata": {},
   "source": [
    "Change `Amelia`'s name to `Amy`"
   ]
  },
  {
   "cell_type": "code",
   "execution_count": 135,
   "id": "feb53ff6-f95e-43ac-9302-d4097bdeb123",
   "metadata": {},
   "outputs": [
    {
     "name": "stdout",
     "output_type": "stream",
     "text": [
      "['Thomas', 'Kate', 'Mike', 'Amy', 'James', 'Megan', 'Kamin', 'Peter', 'Steve', 'Sam', 'Charlotte']\n"
     ]
    }
   ],
   "source": [
    "# Write your code here\n",
    "# Change the name of the person in the list\n",
    "target_name = \"Amelia\"\n",
    "new_name = \"Amy\"\n",
    "if target_name in names:\n",
    "    index = names.index(target_name)\n",
    "    names[index] = new_name\n",
    "\n",
    "print(names)\n"
   ]
  },
  {
   "cell_type": "markdown",
   "id": "eb232f36-b03a-4666-a8be-11f6493ddda3",
   "metadata": {},
   "source": [
    "#### Dictionary"
   ]
  },
  {
   "cell_type": "code",
   "execution_count": 136,
   "id": "c7784413-7700-438d-9bae-e264327f16eb",
   "metadata": {},
   "outputs": [],
   "source": [
    "capital_city = {'England':'London',\n",
    "                'Spain':'Madrid',\n",
    "                'Japan':'Tokyo',\n",
    "                'Australia':'Sydney',\n",
    "                'Germany':'Berlin',\n",
    "               }"
   ]
  },
  {
   "cell_type": "markdown",
   "id": "4a1424d4-8955-455d-9bda-ddc573c50307",
   "metadata": {},
   "source": [
    "Add a record `Thailand` and it's capital city to this dictionary"
   ]
  },
  {
   "cell_type": "code",
   "execution_count": 137,
   "id": "d7134edd-6732-4c37-9b69-28c02579c74f",
   "metadata": {},
   "outputs": [
    {
     "name": "stdout",
     "output_type": "stream",
     "text": [
      "{'England': 'London', 'Spain': 'Madrid', 'Japan': 'Tokyo', 'Australia': 'Sydney', 'Germany': 'Berlin', 'Thailand': 'Bangkok'}\n"
     ]
    }
   ],
   "source": [
    "# Write your code here\n",
    "# Add a new record to the dictionary\n",
    "capital_city['Thailand'] = 'Bangkok'\n",
    "print(capital_city)\n"
   ]
  },
  {
   "cell_type": "markdown",
   "id": "442728cb-9f2d-472b-8909-987996e176cb",
   "metadata": {},
   "source": [
    "You may notice that the capital city of `Australia` is wrong. It should be `Canberra`. Correct this mistake."
   ]
  },
  {
   "cell_type": "code",
   "execution_count": 138,
   "id": "e9c689e8-ad32-4ddd-9e33-8025d2b8fa00",
   "metadata": {
    "jp-MarkdownHeadingCollapsed": true,
    "tags": []
   },
   "outputs": [
    {
     "name": "stdout",
     "output_type": "stream",
     "text": [
      "{'England': 'London', 'Spain': 'Madrid', 'Japan': 'Tokyo', 'Australia': 'Canberra', 'Germany': 'Berlin', 'Thailand': 'Bangkok'}\n"
     ]
    }
   ],
   "source": [
    "# Write your code here\n",
    "# Change the capital city of Australia to Canberra\n",
    "capital_city['Australia'] = 'Canberra'\n",
    "print(capital_city)\n"
   ]
  },
  {
   "cell_type": "markdown",
   "id": "47de81e4-3a74-40ba-b383-4d9a4ba8a240",
   "metadata": {},
   "source": [
    "## 4. Control Flows and conditional statements"
   ]
  },
  {
   "cell_type": "markdown",
   "id": "26875311-407e-403d-9fdb-f8ded74f4926",
   "metadata": {},
   "source": [
    "### if...elif...else"
   ]
  },
  {
   "cell_type": "markdown",
   "id": "ef7bc755-efcd-45c5-a8e4-446724231dd1",
   "metadata": {},
   "source": [
    "**1.** Define a variable to get input age from user."
   ]
  },
  {
   "cell_type": "code",
   "execution_count": 139,
   "id": "908ab4b9-4452-4558-9dfa-33aba76e683c",
   "metadata": {},
   "outputs": [
    {
     "name": "stdout",
     "output_type": "stream",
     "text": [
      "20\n"
     ]
    }
   ],
   "source": [
    "age = int(input('Enter your age: '))\n",
    "print(age)"
   ]
  },
  {
   "cell_type": "markdown",
   "id": "92ee554c-f82d-4ad6-80ae-6d095b6eca2d",
   "metadata": {},
   "source": [
    "Write a series of if...elif...else statement that categorize input age into following groups:\n",
    "> Babies: 0-2 years old  \n",
    "Children: 3-12 years old  \n",
    "Teenager: 13-19 years old  \n",
    "Young Adults: 20-29 years old  \n",
    "Middle-aged Adults: 30-45 years old  \n",
    "Old Adult: 46-59 years old  \n",
    "Elderly: Above 60 years old  "
   ]
  },
  {
   "cell_type": "code",
   "execution_count": 155,
   "id": "77dc4105-8e3f-49da-932a-82611fd9dd8d",
   "metadata": {},
   "outputs": [
    {
     "name": "stdout",
     "output_type": "stream",
     "text": [
      "Young Adults\n"
     ]
    }
   ],
   "source": [
    "# Write your code here\n",
    "if age >= 0 and age <= 2:\n",
    "    print(\"Babies\")\n",
    "elif age >= 3 and age <= 12:\n",
    "    print(\"Children\")\n",
    "elif age >= 13 and age <= 19:\n",
    "    print(\"Teenager\")\n",
    "elif age >= 20 and age <= 29:\n",
    "    print(\"Young Adults\")\n",
    "elif age >= 30 and age <= 45:\n",
    "    print(\"Middle-aged Adults\")\n",
    "elif age >= 46 and age <= 59:\n",
    "    print(\"Old Adult\")\n",
    "else:\n",
    "    print(\"Elderly\")\n"
   ]
  },
  {
   "cell_type": "markdown",
   "id": "c5713324-a3ea-46f9-9cd3-b3bbfa754ae7",
   "metadata": {},
   "source": [
    "### Looping"
   ]
  },
  {
   "cell_type": "markdown",
   "id": "93f2d88b-535e-4446-a81c-26d99ecedaaf",
   "metadata": {},
   "source": [
    "**1.** Write a code to create a multiplication table of an input number (multiplier from 1-12)."
   ]
  },
  {
   "cell_type": "code",
   "execution_count": 141,
   "id": "edea70e8-9bb0-46f1-9234-5b7c78c5038e",
   "metadata": {},
   "outputs": [
    {
     "name": "stdout",
     "output_type": "stream",
     "text": [
      "1 x 1 = 1\n",
      "1 x 2 = 2\n",
      "1 x 3 = 3\n",
      "1 x 4 = 4\n",
      "1 x 5 = 5\n",
      "1 x 6 = 6\n",
      "1 x 7 = 7\n",
      "1 x 8 = 8\n",
      "1 x 9 = 9\n",
      "1 x 10 = 10\n",
      "1 x 11 = 11\n",
      "1 x 12 = 12\n",
      "\n",
      "2 x 1 = 2\n",
      "2 x 2 = 4\n",
      "2 x 3 = 6\n",
      "2 x 4 = 8\n",
      "2 x 5 = 10\n",
      "2 x 6 = 12\n",
      "2 x 7 = 14\n",
      "2 x 8 = 16\n",
      "2 x 9 = 18\n",
      "2 x 10 = 20\n",
      "2 x 11 = 22\n",
      "2 x 12 = 24\n",
      "\n",
      "3 x 1 = 3\n",
      "3 x 2 = 6\n",
      "3 x 3 = 9\n",
      "3 x 4 = 12\n",
      "3 x 5 = 15\n",
      "3 x 6 = 18\n",
      "3 x 7 = 21\n",
      "3 x 8 = 24\n",
      "3 x 9 = 27\n",
      "3 x 10 = 30\n",
      "3 x 11 = 33\n",
      "3 x 12 = 36\n",
      "\n",
      "4 x 1 = 4\n",
      "4 x 2 = 8\n",
      "4 x 3 = 12\n",
      "4 x 4 = 16\n",
      "4 x 5 = 20\n",
      "4 x 6 = 24\n",
      "4 x 7 = 28\n",
      "4 x 8 = 32\n",
      "4 x 9 = 36\n",
      "4 x 10 = 40\n",
      "4 x 11 = 44\n",
      "4 x 12 = 48\n",
      "\n",
      "5 x 1 = 5\n",
      "5 x 2 = 10\n",
      "5 x 3 = 15\n",
      "5 x 4 = 20\n",
      "5 x 5 = 25\n",
      "5 x 6 = 30\n",
      "5 x 7 = 35\n",
      "5 x 8 = 40\n",
      "5 x 9 = 45\n",
      "5 x 10 = 50\n",
      "5 x 11 = 55\n",
      "5 x 12 = 60\n",
      "\n",
      "6 x 1 = 6\n",
      "6 x 2 = 12\n",
      "6 x 3 = 18\n",
      "6 x 4 = 24\n",
      "6 x 5 = 30\n",
      "6 x 6 = 36\n",
      "6 x 7 = 42\n",
      "6 x 8 = 48\n",
      "6 x 9 = 54\n",
      "6 x 10 = 60\n",
      "6 x 11 = 66\n",
      "6 x 12 = 72\n",
      "\n",
      "7 x 1 = 7\n",
      "7 x 2 = 14\n",
      "7 x 3 = 21\n",
      "7 x 4 = 28\n",
      "7 x 5 = 35\n",
      "7 x 6 = 42\n",
      "7 x 7 = 49\n",
      "7 x 8 = 56\n",
      "7 x 9 = 63\n",
      "7 x 10 = 70\n",
      "7 x 11 = 77\n",
      "7 x 12 = 84\n",
      "\n",
      "8 x 1 = 8\n",
      "8 x 2 = 16\n",
      "8 x 3 = 24\n",
      "8 x 4 = 32\n",
      "8 x 5 = 40\n",
      "8 x 6 = 48\n",
      "8 x 7 = 56\n",
      "8 x 8 = 64\n",
      "8 x 9 = 72\n",
      "8 x 10 = 80\n",
      "8 x 11 = 88\n",
      "8 x 12 = 96\n",
      "\n",
      "9 x 1 = 9\n",
      "9 x 2 = 18\n",
      "9 x 3 = 27\n",
      "9 x 4 = 36\n",
      "9 x 5 = 45\n",
      "9 x 6 = 54\n",
      "9 x 7 = 63\n",
      "9 x 8 = 72\n",
      "9 x 9 = 81\n",
      "9 x 10 = 90\n",
      "9 x 11 = 99\n",
      "9 x 12 = 108\n",
      "\n",
      "10 x 1 = 10\n",
      "10 x 2 = 20\n",
      "10 x 3 = 30\n",
      "10 x 4 = 40\n",
      "10 x 5 = 50\n",
      "10 x 6 = 60\n",
      "10 x 7 = 70\n",
      "10 x 8 = 80\n",
      "10 x 9 = 90\n",
      "10 x 10 = 100\n",
      "10 x 11 = 110\n",
      "10 x 12 = 120\n",
      "\n",
      "11 x 1 = 11\n",
      "11 x 2 = 22\n",
      "11 x 3 = 33\n",
      "11 x 4 = 44\n",
      "11 x 5 = 55\n",
      "11 x 6 = 66\n",
      "11 x 7 = 77\n",
      "11 x 8 = 88\n",
      "11 x 9 = 99\n",
      "11 x 10 = 110\n",
      "11 x 11 = 121\n",
      "11 x 12 = 132\n",
      "\n",
      "12 x 1 = 12\n",
      "12 x 2 = 24\n",
      "12 x 3 = 36\n",
      "12 x 4 = 48\n",
      "12 x 5 = 60\n",
      "12 x 6 = 72\n",
      "12 x 7 = 84\n",
      "12 x 8 = 96\n",
      "12 x 9 = 108\n",
      "12 x 10 = 120\n",
      "12 x 11 = 132\n",
      "12 x 12 = 144\n",
      "\n"
     ]
    }
   ],
   "source": [
    "# Write your code here\n",
    "for i in range(1, 13):\n",
    "    for j in range(1, 13):\n",
    "        print(f\"{i} x {j} = {i * j}\")\n",
    "    print()\n"
   ]
  },
  {
   "cell_type": "markdown",
   "id": "344ae7de-0986-416d-a86d-31f739a4df7a",
   "metadata": {},
   "source": [
    "**2.** Write a code that construct the following pattern.  "
   ]
  },
  {
   "cell_type": "raw",
   "id": "16aa5fe5-2651-4c06-9481-314df81a2d49",
   "metadata": {},
   "source": [
    "input: 5  \n",
    "output: \n",
    "*  \n",
    "**  \n",
    "***  \n",
    "****  \n",
    "***** "
   ]
  },
  {
   "cell_type": "code",
   "execution_count": 142,
   "id": "05671650-e184-4f5e-b17a-3e3f44a563e9",
   "metadata": {},
   "outputs": [
    {
     "name": "stdout",
     "output_type": "stream",
     "text": [
      "*\n",
      "**\n",
      "***\n",
      "****\n",
      "*****\n"
     ]
    }
   ],
   "source": [
    "# Write your code here\n",
    "level = int(input(\"Enter your level: \"))\n",
    "for i in range(1, level + 1):\n",
    "    for j in range(1, i + 1):\n",
    "        print(\"*\", end=\"\")\n",
    "    print()"
   ]
  },
  {
   "cell_type": "markdown",
   "id": "591e6802-3d1c-450c-96ff-17bb703cff34",
   "metadata": {},
   "source": [
    "**3.** Creates a loop to print `I love <programming language>!` except for Assembly, print `Not you, Assembly`."
   ]
  },
  {
   "cell_type": "code",
   "execution_count": 143,
   "id": "27ae77b1-cca1-45b0-853f-458bad532661",
   "metadata": {},
   "outputs": [],
   "source": [
    "languages = ['C/C++', 'Python', 'R', 'Java', 'SQLs', 'Assembly', 'Go', 'Rust', 'Kotlin']"
   ]
  },
  {
   "cell_type": "code",
   "execution_count": 144,
   "id": "f94fb0d3-1482-403d-a4d2-245191c75931",
   "metadata": {},
   "outputs": [
    {
     "name": "stdout",
     "output_type": "stream",
     "text": [
      "I love C/C++\n",
      "I love Python\n",
      "I love R\n",
      "I love Java\n",
      "I love SQLs\n",
      "Not you, Assembly\n",
      "I love Go\n",
      "I love Rust\n",
      "I love Kotlin\n"
     ]
    }
   ],
   "source": [
    "# Write your code here\n",
    "for i in range(len(languages)):\n",
    "    if languages[i] == 'Assembly':\n",
    "        print(\"Not you, \" + languages[i])\n",
    "    else:\n",
    "        print(\"I love \" + languages[i])\n"
   ]
  },
  {
   "cell_type": "markdown",
   "id": "b6e64546-269f-4b47-a1f3-d91bde2156c5",
   "metadata": {},
   "source": [
    "**4.** Write a code to print every number from 1 to 25 except the one that is divisible by 3."
   ]
  },
  {
   "cell_type": "code",
   "execution_count": 145,
   "id": "d09b0d6d-0245-4137-a160-1c7d5d5b7d52",
   "metadata": {},
   "outputs": [
    {
     "name": "stdout",
     "output_type": "stream",
     "text": [
      "1\n",
      "2\n",
      "4\n",
      "5\n",
      "7\n",
      "8\n",
      "10\n",
      "11\n",
      "13\n",
      "14\n",
      "16\n",
      "17\n",
      "19\n",
      "20\n",
      "22\n",
      "23\n",
      "25\n"
     ]
    }
   ],
   "source": [
    "# Write your code here\n",
    "for i in range(1,26):\n",
    "    if i % 3 != 0:\n",
    "        print(i)\n"
   ]
  },
  {
   "cell_type": "markdown",
   "id": "96121e50-14d1-422c-855d-6b0f4df8d1ce",
   "metadata": {},
   "source": [
    "**5.** Write a code that finds the number that is divisible by 7 in a given range."
   ]
  },
  {
   "cell_type": "code",
   "execution_count": 146,
   "id": "b161d861-2250-48d1-a348-66a8616de8ca",
   "metadata": {},
   "outputs": [],
   "source": [
    "lower_bound = 1\n",
    "upper_bound = 100\n",
    "divisor = 7\n",
    "\n",
    "result = []"
   ]
  },
  {
   "cell_type": "code",
   "execution_count": 147,
   "id": "0ee01cfb-bbe2-482e-a7fd-cbcb0b444657",
   "metadata": {},
   "outputs": [
    {
     "name": "stdout",
     "output_type": "stream",
     "text": [
      "7\n",
      "14\n",
      "21\n",
      "28\n",
      "35\n",
      "42\n",
      "49\n",
      "56\n",
      "63\n",
      "70\n",
      "77\n",
      "84\n",
      "91\n",
      "98\n"
     ]
    }
   ],
   "source": [
    "# Write your code here\n",
    "for i in range(lower_bound, upper_bound + 1):\n",
    "    if i % divisor == 0:\n",
    "        print(i)"
   ]
  },
  {
   "cell_type": "markdown",
   "id": "5f79cd06-9c78-4d92-9c81-962ea26148e1",
   "metadata": {},
   "source": [
    "**6.** Write a code that construct the following pattern.  "
   ]
  },
  {
   "cell_type": "raw",
   "id": "f8583076-5656-4e2f-8615-7da2ddda7fd9",
   "metadata": {},
   "source": [
    "input: 5  \n",
    "output:  \n",
    "*#####\n",
    "**####\n",
    "***###\n",
    "****##\n",
    "*****#\n",
    "\n",
    "input: 10  \n",
    "output:  \n",
    "*##########  \n",
    "**#########  \n",
    "***########  \n",
    "****#######  \n",
    "*****######  \n",
    "******#####  \n",
    "*******####  \n",
    "********###  \n",
    "*********##  \n",
    "**********#  "
   ]
  },
  {
   "cell_type": "code",
   "execution_count": 148,
   "id": "e7ef0bd3-eb14-406a-842f-63716252ec26",
   "metadata": {},
   "outputs": [
    {
     "name": "stdout",
     "output_type": "stream",
     "text": [
      "*##########\n",
      "**#########\n",
      "***########\n",
      "****#######\n",
      "*****######\n",
      "******#####\n",
      "*******####\n",
      "********###\n",
      "*********##\n",
      "**********#\n"
     ]
    }
   ],
   "source": [
    "# Write your code here\n",
    "level = int(input(\"Enter your level: \"))\n",
    "for i in range(1, level + 1):\n",
    "    for j in range(1, i + 1):\n",
    "        print(\"*\", end=\"\")\n",
    "    for k in range(1, (level - i + 2)):\n",
    "        print(\"#\", end=\"\")\n",
    "    print()"
   ]
  },
  {
   "cell_type": "markdown",
   "id": "aff11c81-82c8-4ac5-950e-9f8fc7e75717",
   "metadata": {},
   "source": [
    "## 5. Functions"
   ]
  },
  {
   "cell_type": "markdown",
   "id": "a9494a61-60d0-46dc-bfb6-9732cf2db524",
   "metadata": {},
   "source": [
    "**1.** Define a function `average` that takes arbitrary number of arguments and calculate the mean of input."
   ]
  },
  {
   "cell_type": "code",
   "execution_count": 149,
   "id": "4a7e53c3-c56e-4c12-96f6-090fdfffcfa7",
   "metadata": {},
   "outputs": [
    {
     "name": "stdout",
     "output_type": "stream",
     "text": [
      "3.0\n"
     ]
    }
   ],
   "source": [
    "# Write your code here\n",
    "def average(*args):\n",
    "    return sum(args) / len(args)\n",
    "\n",
    "# test the function\n",
    "print(average(1, 2, 3, 4, 5))\n"
   ]
  },
  {
   "cell_type": "markdown",
   "id": "b3518966-bb87-4045-ac93-a44dd659fdf2",
   "metadata": {},
   "source": [
    "**2.** Define a function `sumproduct` that takes 2 equal-sized lists and calculate sum of the products of two lists.  \n",
    "It should look like this:  \n",
    "> sumproduct([1,2,3],[4,5,6])  \n",
    "output: 32"
   ]
  },
  {
   "cell_type": "markdown",
   "id": "b8cc65c3-d723-4150-915f-50952b6c89b5",
   "metadata": {},
   "source": [
    "(1 * 4) + (2 * 5) + (3 * 6) = 32"
   ]
  },
  {
   "cell_type": "code",
   "execution_count": 150,
   "id": "5ee40a62-62c2-4c32-b443-be74c4561633",
   "metadata": {},
   "outputs": [
    {
     "name": "stdout",
     "output_type": "stream",
     "text": [
      "32\n"
     ]
    }
   ],
   "source": [
    "# Write your code here\n",
    "def sumproduct(list1, list2):\n",
    "    return sum(x * y for x, y in zip(list1, list2))\n",
    "\n",
    "# test the function\n",
    "print(sumproduct([1, 2, 3], [4, 5, 6]))\n"
   ]
  },
  {
   "cell_type": "markdown",
   "id": "fa9e1ec4-f283-4914-97b6-1c3c7e4559b3",
   "metadata": {},
   "source": [
    "**3.** Define a function `fibonacci` that returns Fibonacci number at `n` position.  \n",
    "A Fibonacci number at position `n` is defined by `F(n) = F(n-1) + F(n-2)`. Where `F(0) = 0` and `F(1) = 1`  \n",
    "**Example:** `0, 1, 1, 2, 3, 5, 8, 13, 21, 34, 55, 89, 144, ...`  "
   ]
  },
  {
   "cell_type": "code",
   "execution_count": 151,
   "id": "be842d69-614f-4a99-92b3-06546ecfad8a",
   "metadata": {},
   "outputs": [
    {
     "name": "stdout",
     "output_type": "stream",
     "text": [
      "[0, 1, 1, 2, 3, 5, 8, 13, 21, 34, 55]\n"
     ]
    }
   ],
   "source": [
    "# Write your code here\n",
    "def fibonacci(n):\n",
    "    fib_sequence = []\n",
    "    for i in range(n + 1):\n",
    "        if i == 0:\n",
    "            fib_sequence.append(0)\n",
    "        elif i == 1:\n",
    "            fib_sequence.append(1)\n",
    "        else:\n",
    "            fib_sequence.append(fib_sequence[-1] + fib_sequence[-2])\n",
    "    return fib_sequence\n",
    "\n",
    "# test the function\n",
    "print(fibonacci(10))\n"
   ]
  },
  {
   "cell_type": "markdown",
   "id": "0fe45b53-d936-4f0f-a8fd-c1e0e62206d5",
   "metadata": {},
   "source": [
    "**4.** Define a function `is_palindrome` that takes input string and check whether it is a palindrome or not.  \n",
    "A string is a palindrome if it reads the same forward and backwards.  \n",
    "\n",
    "**Example:** `madam`, `race car`, `borrow or rob`, `amore roma`, `never odd or even`  \n",
    "Do not consider whitespace. Use `str.replace(' ', '')` to remove whitespace from your string.  \n",
    "Case-insensitive. You can turn everything into lower or uppercase using `str.lower()` or `str.upper()`  \n",
    "\n",
    "**Hint:** you can reverse the string using `[::-1]` slice."
   ]
  },
  {
   "cell_type": "code",
   "execution_count": 152,
   "id": "94112078-1914-4892-bae3-27b8296bb901",
   "metadata": {},
   "outputs": [],
   "source": [
    "str1 = \"radar\" # palindrome\n",
    "str2 = \"rotator\" # palindrome\n",
    "str3 = \"lemon\" # not palindrome"
   ]
  },
  {
   "cell_type": "code",
   "execution_count": 153,
   "id": "247b2d87-cd37-4389-a304-59a4229be2ff",
   "metadata": {},
   "outputs": [
    {
     "name": "stdout",
     "output_type": "stream",
     "text": [
      "True\n",
      "True\n",
      "False\n"
     ]
    }
   ],
   "source": [
    "# Write your code here\n",
    "def is_palindrome(s):\n",
    "    return s == s[::-1]\n",
    "\n",
    "# test the function\n",
    "print(is_palindrome(str1))\n",
    "print(is_palindrome(str2))\n",
    "print(is_palindrome(str3))"
   ]
  },
  {
   "cell_type": "markdown",
   "id": "e71451d8-adc1-4d52-b9f7-c1a69e3fa65a",
   "metadata": {},
   "source": [
    "**5.** An `anagram` is a word or phrase formed by rearranging the letters of a different word or phrase.  \n",
    "Define a function `is_anagram` that takes in 2 strings and check whether it is possible to compose a second string using letters in the first string or not.  \n",
    "\n",
    "**Example:** `Tom Marrvolo Riddle` can be rearraged into `I am Lord Voldermort`  \n",
    "`Meaning of Life` can be rearranged into `Engine of a Film`  \n",
    "Do not consider whitespace. Use `str.replace(' ', '')` to remove whitespace from your string.  \n",
    "Case-insensitive. You can turn everything into lower or uppercase using `str.lower()` or `str.upper()`  \n",
    "Returns only `True` of `False`"
   ]
  },
  {
   "cell_type": "code",
   "execution_count": 154,
   "id": "fb6fdf92-c164-49d1-9e2c-0065c9541409",
   "metadata": {},
   "outputs": [
    {
     "name": "stdout",
     "output_type": "stream",
     "text": [
      "True\n"
     ]
    }
   ],
   "source": [
    "# Write your code here\n",
    "str1 = \"Meaning of Life\"\n",
    "str2 = \"Engine of a Film\"\n",
    "\n",
    "def is_anagram(s1, s2):\n",
    "    return sorted(s1.lower().replace(\" \", \"\")) == sorted(s2.lower().replace(\" \", \"\"))\n",
    "\n",
    "# test the function\n",
    "print(is_anagram(str1, str2))    "
   ]
  },
  {
   "cell_type": "markdown",
   "id": "b4930c70-1db0-4c50-93c7-406538b1d140",
   "metadata": {},
   "source": [
    "---"
   ]
  }
 ],
 "metadata": {
  "kernelspec": {
   "display_name": ".venv",
   "language": "python",
   "name": "python3"
  },
  "language_info": {
   "codemirror_mode": {
    "name": "ipython",
    "version": 3
   },
   "file_extension": ".py",
   "mimetype": "text/x-python",
   "name": "python",
   "nbconvert_exporter": "python",
   "pygments_lexer": "ipython3",
   "version": "3.12.3"
  }
 },
 "nbformat": 4,
 "nbformat_minor": 5
}
