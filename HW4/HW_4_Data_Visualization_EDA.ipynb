{
  "cells": [
    {
      "cell_type": "markdown",
      "metadata": {
        "id": "3V1ElDaoyK4_"
      },
      "source": [
        "# Lab 4: Data Visualization and EDA\n",
        "\n",
        "#### CPE232 Data Models\n",
        "\n",
        "---"
      ]
    },
    {
      "cell_type": "markdown",
      "metadata": {
        "id": "GK704HA_yK5B"
      },
      "source": [
        "1. Load all Superstore datasets.\n",
        "\n",
        "*Note: The same datasets used in Lab 3*"
      ]
    },
    {
      "cell_type": "code",
      "execution_count": 1,
      "metadata": {
        "id": "9M5-wxlbyK5B"
      },
      "outputs": [],
      "source": [
        "# Write your code here\n",
        "import pandas as pd\n",
        "\n",
        "order_df = pd.read_csv('superstore_order.csv')\n",
        "people_df = pd.read_csv('superstore_people.csv')\n",
        "returns_df = pd.read_csv('superstore_return.csv')"
      ]
    },
    {
      "cell_type": "markdown",
      "metadata": {
        "id": "eSbZ_QZxyK5C"
      },
      "source": [
        "2. Determine shape of each dataset (print out the results as well)."
      ]
    },
    {
      "cell_type": "code",
      "execution_count": 2,
      "metadata": {
        "id": "VNxmhRSiyK5C"
      },
      "outputs": [
        {
          "name": "stdout",
          "output_type": "stream",
          "text": [
            "(8880, 21)\n",
            "(4, 2)\n",
            "(296, 2)\n"
          ]
        }
      ],
      "source": [
        "# Write your code here\n",
        "print(order_df.shape)\n",
        "print(people_df.shape)\n",
        "print(returns_df.shape)\n"
      ]
    },
    {
      "cell_type": "markdown",
      "metadata": {
        "id": "xVB-ZfUZyK5C"
      },
      "source": [
        "3. Show information of the dataset.\n"
      ]
    },
    {
      "cell_type": "code",
      "execution_count": 3,
      "metadata": {
        "id": "4n7HJxWXyK5C"
      },
      "outputs": [
        {
          "name": "stdout",
          "output_type": "stream",
          "text": [
            "order info\n",
            "<class 'pandas.core.frame.DataFrame'>\n",
            "RangeIndex: 8880 entries, 0 to 8879\n",
            "Data columns (total 21 columns):\n",
            " #   Column         Non-Null Count  Dtype  \n",
            "---  ------         --------------  -----  \n",
            " 0   Row ID         8880 non-null   int64  \n",
            " 1   Order ID       8880 non-null   object \n",
            " 2   Order Date     8880 non-null   object \n",
            " 3   Ship Date      8880 non-null   object \n",
            " 4   Ship Mode      8880 non-null   object \n",
            " 5   Customer ID    8880 non-null   object \n",
            " 6   Customer Name  8880 non-null   object \n",
            " 7   Segment        8880 non-null   object \n",
            " 8   Country        8880 non-null   object \n",
            " 9   City           8880 non-null   object \n",
            " 10  State          8880 non-null   object \n",
            " 11  Postal Code    8880 non-null   int64  \n",
            " 12  Region         8880 non-null   object \n",
            " 13  Product ID     8880 non-null   object \n",
            " 14  Category       8880 non-null   object \n",
            " 15  Sub-Category   8880 non-null   object \n",
            " 16  Product Name   8880 non-null   object \n",
            " 17  Sales          8880 non-null   float64\n",
            " 18  Quantity       8880 non-null   int64  \n",
            " 19  Discount       8880 non-null   float64\n",
            " 20  Profit         8880 non-null   float64\n",
            "dtypes: float64(3), int64(3), object(15)\n",
            "memory usage: 1.4+ MB\n",
            "\n",
            "people info\n",
            "<class 'pandas.core.frame.DataFrame'>\n",
            "RangeIndex: 4 entries, 0 to 3\n",
            "Data columns (total 2 columns):\n",
            " #   Column  Non-Null Count  Dtype \n",
            "---  ------  --------------  ----- \n",
            " 0   Person  4 non-null      object\n",
            " 1   Region  4 non-null      object\n",
            "dtypes: object(2)\n",
            "memory usage: 196.0+ bytes\n",
            "\n",
            "returns info\n",
            "<class 'pandas.core.frame.DataFrame'>\n",
            "RangeIndex: 296 entries, 0 to 295\n",
            "Data columns (total 2 columns):\n",
            " #   Column    Non-Null Count  Dtype \n",
            "---  ------    --------------  ----- \n",
            " 0   Returned  296 non-null    object\n",
            " 1   Order ID  296 non-null    object\n",
            "dtypes: object(2)\n",
            "memory usage: 4.8+ KB\n"
          ]
        }
      ],
      "source": [
        "# Write your code here\n",
        "print(\"order info\")\n",
        "order_df.info()\n",
        "print(\"\\npeople info\")\n",
        "people_df.info()\n",
        "print(\"\\nreturns info\")\n",
        "returns_df.info()\n"
      ]
    },
    {
      "cell_type": "code",
      "execution_count": 4,
      "metadata": {},
      "outputs": [
        {
          "name": "stdout",
          "output_type": "stream",
          "text": [
            "Missing values in order_df:\n",
            "Row ID           0\n",
            "Order ID         0\n",
            "Order Date       0\n",
            "Ship Date        0\n",
            "Ship Mode        0\n",
            "Customer ID      0\n",
            "Customer Name    0\n",
            "Segment          0\n",
            "Country          0\n",
            "City             0\n",
            "State            0\n",
            "Postal Code      0\n",
            "Region           0\n",
            "Product ID       0\n",
            "Category         0\n",
            "Sub-Category     0\n",
            "Product Name     0\n",
            "Sales            0\n",
            "Quantity         0\n",
            "Discount         0\n",
            "Profit           0\n",
            "dtype: int64\n",
            "\n",
            "Missing values in people_df:\n",
            "Person    0\n",
            "Region    0\n",
            "dtype: int64\n",
            "\n",
            "Missing values in returns_df:\n",
            "Returned    0\n",
            "Order ID    0\n",
            "dtype: int64\n"
          ]
        }
      ],
      "source": [
        "print(\"Missing values in order_df:\")\n",
        "print(order_df.isnull().sum())\n",
        "\n",
        "print(\"\\nMissing values in people_df:\")\n",
        "print(people_df.isnull().sum())\n",
        "\n",
        "print(\"\\nMissing values in returns_df:\")\n",
        "print(returns_df.isnull().sum())"
      ]
    },
    {
      "cell_type": "markdown",
      "metadata": {
        "id": "b7pvNmDkyK5D"
      },
      "source": [
        "4. Are there any missing values? If so, in which column?\n",
        "\n",
        "Ans: None"
      ]
    },
    {
      "cell_type": "markdown",
      "metadata": {
        "id": "D-X0RVgeyK5D"
      },
      "source": [
        "5.\n",
        "- 5.1 List unique segments\n",
        "- 5.2 List unique segments and their corresponding count\n",
        "- 5.3 Create a pie chart to demonstrate unique segments and their count\n",
        "- 5.4 Briefly describe what could be interpreted from this pie chart\n",
        "\n",
        "*Note: please create additional cells to answer 5.2 - 5.3*"
      ]
    },
    {
      "cell_type": "code",
      "execution_count": 5,
      "metadata": {
        "id": "Rvh9HTv1yK5D"
      },
      "outputs": [
        {
          "name": "stdout",
          "output_type": "stream",
          "text": [
            "['Consumer' 'Corporate' 'Home Office']\n"
          ]
        }
      ],
      "source": [
        "# Write your code here (5.1)\n",
        "\n",
        "# List unique segment values\n",
        "print(order_df[\"Segment\"].unique())"
      ]
    },
    {
      "cell_type": "code",
      "execution_count": 6,
      "metadata": {},
      "outputs": [
        {
          "name": "stdout",
          "output_type": "stream",
          "text": [
            "Segment\n",
            "Consumer       4613\n",
            "Corporate      2673\n",
            "Home Office    1594\n",
            "Name: count, dtype: int64\n"
          ]
        }
      ],
      "source": [
        "# Write your code here (5.2)\n",
        "\n",
        "# List unique segments and their corresponding count\n",
        "print(order_df[\"Segment\"].value_counts())"
      ]
    },
    {
      "cell_type": "code",
      "execution_count": 7,
      "metadata": {},
      "outputs": [
        {
          "data": {
            "image/png": "[encoded data removed]",
            "text/plain": [
              "<Figure size 640x480 with 1 Axes>"
            ]
          },
          "metadata": {},
          "output_type": "display_data"
        }
      ],
      "source": [
        "# Write your code here (5.3)\n",
        "\n",
        "# Create a pie chart to demonstrate unique segments and their count\n",
        "import matplotlib.pyplot as plt\n",
        "\n",
        "order_df[\"Segment\"].value_counts().plot.pie(autopct='%1.1f%%')\n",
        "plt.title(\"Segment Distribution\")\n",
        "plt.show()\n"
      ]
    },
    {
      "cell_type": "markdown",
      "metadata": {
        "vscode": {
          "languageId": "markdown"
        }
      },
      "source": [
        "The pie chart shows the distribution of different segments in the dataset. From the chart, we can interpret the proportion of each segment (Consumer, Corporate, and Home Office) in the dataset. The chart helps us understand which segment has the highest and lowest representation. For example, if the Consumer segment occupies the largest portion of the pie, it indicates that most of the orders come from consumers. Conversely, if the Home Office segment is the smallest, it indicates that fewer orders come from home offices."
      ]
    },
    {
      "cell_type": "markdown",
      "metadata": {
        "id": "H86laaSXyK5D"
      },
      "source": [
        "Answer for the question 5.4\n",
        "\n",
        "Ans: shows the distribution of different segments in the dataset, we can interpret the proportion of each segment "
      ]
    },
    {
      "cell_type": "markdown",
      "metadata": {
        "id": "siHfjQuxyK5D"
      },
      "source": [
        "6.\n",
        "- 6.1 List unique states\n",
        "- 6.2 List top-10 unique states and their corresponding count\n",
        "- 6.3 Create a bar chart (vertical) to demonstrate the count of top-10 unique states\n",
        "- 6.4 Based on 6.2, also include the total sales of these states (show your result as a dataframe)\n",
        "- 6.5 Using the result from 6.4, if you were the owner of this superstore, what information could be interpreted from this result?\n",
        "\n",
        "*Note: please create additional cells to answer 6.2 - 6.4*"
      ]
    },
    {
      "cell_type": "code",
      "execution_count": 8,
      "metadata": {
        "id": "L3wKPXNuyK5D"
      },
      "outputs": [
        {
          "name": "stdout",
          "output_type": "stream",
          "text": [
            "['Kentucky' 'California' 'Florida' 'North Carolina' 'Washington' 'Texas'\n",
            " 'Wisconsin' 'Utah' 'Nebraska' 'Pennsylvania' 'Illinois' 'Minnesota'\n",
            " 'Michigan' 'Delaware' 'Indiana' 'New York' 'Arizona' 'Virginia'\n",
            " 'Tennessee' 'Alabama' 'South Carolina' 'Oregon' 'Colorado' 'Iowa' 'Ohio'\n",
            " 'Missouri' 'Oklahoma' 'New Mexico' 'Louisiana' 'Connecticut' 'New Jersey'\n",
            " 'Massachusetts' 'Georgia' 'Nevada' 'Rhode Island' 'Mississippi'\n",
            " 'Arkansas' 'Montana' 'New Hampshire' 'Maryland' 'District of Columbia'\n",
            " 'Kansas' 'Vermont' 'Maine' 'South Dakota' 'Idaho' 'North Dakota'\n",
            " 'Wyoming' 'West Virginia']\n"
          ]
        }
      ],
      "source": [
        "# Write your code here (6.1)\n",
        "\n",
        "# List unique states\n",
        "print(order_df[\"State\"].unique())"
      ]
    },
    {
      "cell_type": "code",
      "execution_count": 9,
      "metadata": {},
      "outputs": [
        {
          "name": "stdout",
          "output_type": "stream",
          "text": [
            "State\n",
            "California        1754\n",
            "New York          1001\n",
            "Texas              860\n",
            "Pennsylvania       531\n",
            "Washington         452\n",
            "Illinois           427\n",
            "Ohio               396\n",
            "Florida            339\n",
            "Michigan           230\n",
            "North Carolina     229\n",
            "Name: count, dtype: int64\n"
          ]
        }
      ],
      "source": [
        "# Write your code here (6.2)\n",
        "\n",
        "# List top-10 unique states and their corresponding count\n",
        "print(order_df[\"State\"].value_counts().head(10))"
      ]
    },
    {
      "cell_type": "code",
      "execution_count": 10,
      "metadata": {},
      "outputs": [
        {
          "data": {
            "image/png": "[encoded data removed]",
            "text/plain": [
              "<Figure size 640x480 with 1 Axes>"
            ]
          },
          "metadata": {},
          "output_type": "display_data"
        }
      ],
      "source": [
        "# Write your code here (6.3)\n",
        "\n",
        "# Create a bar chart (vertical) to demonstrate the count of top-10 unique states\n",
        "order_df[\"State\"].value_counts().head(10).plot(kind=\"bar\")\n",
        "plt.title(\"Top 10 States\")\n",
        "plt.show()"
      ]
    },
    {
      "cell_type": "code",
      "execution_count": 11,
      "metadata": {},
      "outputs": [
        {
          "name": "stdout",
          "output_type": "stream",
          "text": [
            "            State        Sales\n",
            "0      California  399195.4555\n",
            "4        New York  274866.8190\n",
            "8           Texas  147855.0282\n",
            "9      Washington  124497.7780\n",
            "7    Pennsylvania  103852.5210\n",
            "1         Florida   84083.0880\n",
            "2        Illinois   71456.1780\n",
            "6            Ohio   67924.2140\n",
            "3        Michigan   62147.6960\n",
            "5  North Carolina   49962.1580\n"
          ]
        }
      ],
      "source": [
        "# Write your code here (6.4)\n",
        "\n",
        "# include the total sales of these states (show your result as a dataframe)\n",
        "top_10_states = order_df[\"State\"].value_counts().head(10).index\n",
        "top_10_states_df = order_df[order_df[\"State\"].isin(top_10_states)]\n",
        "result = top_10_states_df.groupby(\"State\")[\"Sales\"].sum().reset_index()\n",
        "print(result.sort_values(\"Sales\", ascending=False))"
      ]
    },
    {
      "cell_type": "markdown",
      "metadata": {
        "id": "hJoRCGkJyK5E"
      },
      "source": [
        "Answer for the question 6.5 \n",
        "\n",
        "Using the result from 6.4, if you were the owner of this superstore, what information could be interpreted from this result?\n",
        "\n",
        "Ans: California has a noticeably high number of sales, followed by New York. Other states have much lower numbers."
      ]
    },
    {
      "cell_type": "markdown",
      "metadata": {
        "id": "y5_zmjQdyK5E"
      },
      "source": [
        "7.\n",
        "- 7.1 List unique categories\n",
        "- 7.2 Create a bar chart (horizontal) to demonstrate the proportion of these categories\n",
        "- 7.3 Compute the ratio of these categories in percentage and print the results\n",
        "\n",
        "*Note: please create additional cells to answer 7.2 - 7.3*"
      ]
    },
    {
      "cell_type": "code",
      "execution_count": 12,
      "metadata": {
        "id": "yvtw57pOyK5E"
      },
      "outputs": [
        {
          "name": "stdout",
          "output_type": "stream",
          "text": [
            "['Furniture' 'Office Supplies' 'Technology']\n"
          ]
        }
      ],
      "source": [
        "# Write your code here (7.1)\n",
        "\n",
        "# List unique categories\n",
        "print(order_df[\"Category\"].unique())"
      ]
    },
    {
      "cell_type": "code",
      "execution_count": 13,
      "metadata": {},
      "outputs": [
        {
          "data": {
            "image/png": "[encoded data removed]",
            "text/plain": [
              "<Figure size 640x480 with 1 Axes>"
            ]
          },
          "metadata": {},
          "output_type": "display_data"
        }
      ],
      "source": [
        "# Write your code here (7.2)\n",
        "\n",
        "# Create a bar chart (horizontal) to demonstrate the proportion of these categories\n",
        "order_df[\"Category\"].value_counts().plot(kind=\"barh\")\n",
        "plt.title(\"Category Distribution\")\n",
        "plt.show()"
      ]
    },
    {
      "cell_type": "code",
      "execution_count": 14,
      "metadata": {},
      "outputs": [
        {
          "name": "stdout",
          "output_type": "stream",
          "text": [
            "Category\n",
            "Office Supplies    60.360360\n",
            "Furniture          21.171171\n",
            "Technology         18.468468\n",
            "Name: count, dtype: float64\n"
          ]
        }
      ],
      "source": [
        "# Write your code here (7.3)\n",
        "\n",
        "# Compute the ratio of these categories in percentage and print the results\n",
        "category_percentage = order_df[\"Category\"].value_counts()/order_df[\"Category\"].value_counts().sum()*100\n",
        "print(category_percentage)"
      ]
    },
    {
      "cell_type": "markdown",
      "metadata": {
        "id": "N-3k0N_byK5E"
      },
      "source": [
        "8. Update the type of all columns that contain dates to *datetime* and show information after an update."
      ]
    },
    {
      "cell_type": "code",
      "execution_count": 15,
      "metadata": {
        "id": "r-yW8m1OyK5E"
      },
      "outputs": [
        {
          "name": "stdout",
          "output_type": "stream",
          "text": [
            "datetime64[ns]\n",
            "datetime64[ns]\n",
            "<class 'pandas.core.frame.DataFrame'>\n",
            "RangeIndex: 8880 entries, 0 to 8879\n",
            "Data columns (total 21 columns):\n",
            " #   Column         Non-Null Count  Dtype         \n",
            "---  ------         --------------  -----         \n",
            " 0   Row ID         8880 non-null   int64         \n",
            " 1   Order ID       8880 non-null   object        \n",
            " 2   Order Date     8880 non-null   datetime64[ns]\n",
            " 3   Ship Date      8880 non-null   datetime64[ns]\n",
            " 4   Ship Mode      8880 non-null   object        \n",
            " 5   Customer ID    8880 non-null   object        \n",
            " 6   Customer Name  8880 non-null   object        \n",
            " 7   Segment        8880 non-null   object        \n",
            " 8   Country        8880 non-null   object        \n",
            " 9   City           8880 non-null   object        \n",
            " 10  State          8880 non-null   object        \n",
            " 11  Postal Code    8880 non-null   int64         \n",
            " 12  Region         8880 non-null   object        \n",
            " 13  Product ID     8880 non-null   object        \n",
            " 14  Category       8880 non-null   object        \n",
            " 15  Sub-Category   8880 non-null   object        \n",
            " 16  Product Name   8880 non-null   object        \n",
            " 17  Sales          8880 non-null   float64       \n",
            " 18  Quantity       8880 non-null   int64         \n",
            " 19  Discount       8880 non-null   float64       \n",
            " 20  Profit         8880 non-null   float64       \n",
            "dtypes: datetime64[ns](2), float64(3), int64(3), object(13)\n",
            "memory usage: 1.4+ MB\n"
          ]
        }
      ],
      "source": [
        "# write your code here\n",
        "\n",
        "# Update the type of all columns that contain dates to *datetime* and show information after an update.\n",
        "order_df[\"Order Date\"] = pd.to_datetime(order_df[\"Order Date\"], format=\"%d/%m/%Y\")\n",
        "order_df[\"Ship Date\"] = pd.to_datetime(order_df[\"Ship Date\"], format=\"%d/%m/%Y\")\n",
        "print(order_df[\"Order Date\"].dtypes)\n",
        "print(order_df[\"Ship Date\"].dtypes)\n",
        "order_df.info()\n",
        "\n"
      ]
    },
    {
      "cell_type": "markdown",
      "metadata": {
        "id": "VkQQ3aHHyK5E"
      },
      "source": [
        "9. Create a new column \"Processing time day\" to show number of days taken to ship an order and show your result in a dataframe format.\n",
        "\n",
        "*Hint: The duration starts as soon as the item has been ordered and ends once the order has successfully shipped.*"
      ]
    },
    {
      "cell_type": "code",
      "execution_count": 16,
      "metadata": {
        "id": "peNFx2VkyK5E"
      },
      "outputs": [
        {
          "data": {
            "text/html": [
              "<div>\n",
              "<style scoped>\n",
              "    .dataframe tbody tr th:only-of-type {\n",
              "        vertical-align: middle;\n",
              "    }\n",
              "\n",
              "    .dataframe tbody tr th {\n",
              "        vertical-align: top;\n",
              "    }\n",
              "\n",
              "    .dataframe thead th {\n",
              "        text-align: right;\n",
              "    }\n",
              "</style>\n",
              "<table border=\"1\" class=\"dataframe\">\n",
              "  <thead>\n",
              "    <tr style=\"text-align: right;\">\n",
              "      <th></th>\n",
              "      <th>Row ID</th>\n",
              "      <th>Order ID</th>\n",
              "      <th>Order Date</th>\n",
              "      <th>Ship Date</th>\n",
              "      <th>Ship Mode</th>\n",
              "      <th>Customer ID</th>\n",
              "      <th>Customer Name</th>\n",
              "      <th>Segment</th>\n",
              "      <th>Country</th>\n",
              "      <th>City</th>\n",
              "      <th>...</th>\n",
              "      <th>Region</th>\n",
              "      <th>Product ID</th>\n",
              "      <th>Category</th>\n",
              "      <th>Sub-Category</th>\n",
              "      <th>Product Name</th>\n",
              "      <th>Sales</th>\n",
              "      <th>Quantity</th>\n",
              "      <th>Discount</th>\n",
              "      <th>Profit</th>\n",
              "      <th>Processing Time Day</th>\n",
              "    </tr>\n",
              "  </thead>\n",
              "  <tbody>\n",
              "    <tr>\n",
              "      <th>0</th>\n",
              "      <td>1</td>\n",
              "      <td>CA-2016-152156</td>\n",
              "      <td>2016-11-08</td>\n",
              "      <td>2016-11-11</td>\n",
              "      <td>Second Class</td>\n",
              "      <td>CG-12520</td>\n",
              "      <td>Claire Gute</td>\n",
              "      <td>Consumer</td>\n",
              "      <td>United States</td>\n",
              "      <td>Henderson</td>\n",
              "      <td>...</td>\n",
              "      <td>South</td>\n",
              "      <td>FUR-BO-10001798</td>\n",
              "      <td>Furniture</td>\n",
              "      <td>Bookcases</td>\n",
              "      <td>Bush Somerset Collection Bookcase</td>\n",
              "      <td>261.9600</td>\n",
              "      <td>2</td>\n",
              "      <td>0.00</td>\n",
              "      <td>41.9136</td>\n",
              "      <td>3</td>\n",
              "    </tr>\n",
              "    <tr>\n",
              "      <th>1</th>\n",
              "      <td>2</td>\n",
              "      <td>CA-2016-152156</td>\n",
              "      <td>2016-11-08</td>\n",
              "      <td>2016-11-11</td>\n",
              "      <td>Second Class</td>\n",
              "      <td>CG-12520</td>\n",
              "      <td>Claire Gute</td>\n",
              "      <td>Consumer</td>\n",
              "      <td>United States</td>\n",
              "      <td>Henderson</td>\n",
              "      <td>...</td>\n",
              "      <td>South</td>\n",
              "      <td>FUR-CH-10000454</td>\n",
              "      <td>Furniture</td>\n",
              "      <td>Chairs</td>\n",
              "      <td>Hon Deluxe Fabric Upholstered Stacking Chairs ...</td>\n",
              "      <td>731.9400</td>\n",
              "      <td>3</td>\n",
              "      <td>0.00</td>\n",
              "      <td>219.5820</td>\n",
              "      <td>3</td>\n",
              "    </tr>\n",
              "    <tr>\n",
              "      <th>2</th>\n",
              "      <td>3</td>\n",
              "      <td>CA-2016-138688</td>\n",
              "      <td>2016-06-12</td>\n",
              "      <td>2016-06-16</td>\n",
              "      <td>Second Class</td>\n",
              "      <td>DV-13045</td>\n",
              "      <td>Darrin Van Huff</td>\n",
              "      <td>Corporate</td>\n",
              "      <td>United States</td>\n",
              "      <td>Los Angeles</td>\n",
              "      <td>...</td>\n",
              "      <td>West</td>\n",
              "      <td>OFF-LA-10000240</td>\n",
              "      <td>Office Supplies</td>\n",
              "      <td>Labels</td>\n",
              "      <td>Self-Adhesive Address Labels for Typewriters b...</td>\n",
              "      <td>14.6200</td>\n",
              "      <td>2</td>\n",
              "      <td>0.00</td>\n",
              "      <td>6.8714</td>\n",
              "      <td>4</td>\n",
              "    </tr>\n",
              "    <tr>\n",
              "      <th>3</th>\n",
              "      <td>4</td>\n",
              "      <td>US-2015-108966</td>\n",
              "      <td>2015-10-11</td>\n",
              "      <td>2015-10-18</td>\n",
              "      <td>Standard Class</td>\n",
              "      <td>SO-20335</td>\n",
              "      <td>Sean ODonnell</td>\n",
              "      <td>Consumer</td>\n",
              "      <td>United States</td>\n",
              "      <td>Fort Lauderdale</td>\n",
              "      <td>...</td>\n",
              "      <td>South</td>\n",
              "      <td>FUR-TA-10000577</td>\n",
              "      <td>Furniture</td>\n",
              "      <td>Tables</td>\n",
              "      <td>Bretford CR4500 Series Slim Rectangular Table</td>\n",
              "      <td>957.5775</td>\n",
              "      <td>5</td>\n",
              "      <td>0.45</td>\n",
              "      <td>-383.0310</td>\n",
              "      <td>7</td>\n",
              "    </tr>\n",
              "    <tr>\n",
              "      <th>4</th>\n",
              "      <td>5</td>\n",
              "      <td>US-2015-108966</td>\n",
              "      <td>2015-10-11</td>\n",
              "      <td>2015-10-18</td>\n",
              "      <td>Standard Class</td>\n",
              "      <td>SO-20335</td>\n",
              "      <td>Sean ODonnell</td>\n",
              "      <td>Consumer</td>\n",
              "      <td>United States</td>\n",
              "      <td>Fort Lauderdale</td>\n",
              "      <td>...</td>\n",
              "      <td>South</td>\n",
              "      <td>OFF-ST-10000760</td>\n",
              "      <td>Office Supplies</td>\n",
              "      <td>Storage</td>\n",
              "      <td>Eldon Fold N Roll Cart System</td>\n",
              "      <td>22.3680</td>\n",
              "      <td>2</td>\n",
              "      <td>0.20</td>\n",
              "      <td>2.5164</td>\n",
              "      <td>7</td>\n",
              "    </tr>\n",
              "  </tbody>\n",
              "</table>\n",
              "<p>5 rows × 22 columns</p>\n",
              "</div>"
            ],
            "text/plain": [
              "   Row ID        Order ID Order Date  Ship Date       Ship Mode Customer ID  \\\n",
              "0       1  CA-2016-152156 2016-11-08 2016-11-11    Second Class    CG-12520   \n",
              "1       2  CA-2016-152156 2016-11-08 2016-11-11    Second Class    CG-12520   \n",
              "2       3  CA-2016-138688 2016-06-12 2016-06-16    Second Class    DV-13045   \n",
              "3       4  US-2015-108966 2015-10-11 2015-10-18  Standard Class    SO-20335   \n",
              "4       5  US-2015-108966 2015-10-11 2015-10-18  Standard Class    SO-20335   \n",
              "\n",
              "     Customer Name    Segment        Country             City  ... Region  \\\n",
              "0      Claire Gute   Consumer  United States        Henderson  ...  South   \n",
              "1      Claire Gute   Consumer  United States        Henderson  ...  South   \n",
              "2  Darrin Van Huff  Corporate  United States      Los Angeles  ...   West   \n",
              "3    Sean ODonnell   Consumer  United States  Fort Lauderdale  ...  South   \n",
              "4    Sean ODonnell   Consumer  United States  Fort Lauderdale  ...  South   \n",
              "\n",
              "        Product ID         Category Sub-Category  \\\n",
              "0  FUR-BO-10001798        Furniture    Bookcases   \n",
              "1  FUR-CH-10000454        Furniture       Chairs   \n",
              "2  OFF-LA-10000240  Office Supplies       Labels   \n",
              "3  FUR-TA-10000577        Furniture       Tables   \n",
              "4  OFF-ST-10000760  Office Supplies      Storage   \n",
              "\n",
              "                                        Product Name     Sales Quantity  \\\n",
              "0                  Bush Somerset Collection Bookcase  261.9600        2   \n",
              "1  Hon Deluxe Fabric Upholstered Stacking Chairs ...  731.9400        3   \n",
              "2  Self-Adhesive Address Labels for Typewriters b...   14.6200        2   \n",
              "3      Bretford CR4500 Series Slim Rectangular Table  957.5775        5   \n",
              "4                      Eldon Fold N Roll Cart System   22.3680        2   \n",
              "\n",
              "   Discount    Profit  Processing Time Day  \n",
              "0      0.00   41.9136                    3  \n",
              "1      0.00  219.5820                    3  \n",
              "2      0.00    6.8714                    4  \n",
              "3      0.45 -383.0310                    7  \n",
              "4      0.20    2.5164                    7  \n",
              "\n",
              "[5 rows x 22 columns]"
            ]
          },
          "execution_count": 16,
          "metadata": {},
          "output_type": "execute_result"
        }
      ],
      "source": [
        "# write your code here\n",
        "\n",
        "# Create a new column \"Processing time day\" to show number of days taken to ship an order and show your result in a dataframe format.\n",
        "\n",
        "order_df[\"Processing Time Day\"] = (order_df[\"Ship Date\"] - order_df[\"Order Date\"]).dt.days\n",
        "\n",
        "order_df.head()"
      ]
    },
    {
      "cell_type": "markdown",
      "metadata": {
        "id": "OfOnjKMmyK5E"
      },
      "source": [
        "10. Based on the result in 9.\n",
        "- 10.1 How many orders are there that take more than 5 days to process?\n",
        "- 10.2 Show the top 5 rows (expected output should contain these columns: Order ID, Order Date, Ship Date, Processing time day, Quantity)\n",
        "- 10.3 Plot the histogram based on the column Quantity\n",
        "\n",
        "*Note: please create additional cells to answer 10.2 - 10.3*"
      ]
    },
    {
      "cell_type": "code",
      "execution_count": 17,
      "metadata": {
        "id": "EBCCI8Q-yK5E"
      },
      "outputs": [
        {
          "data": {
            "text/plain": [
              "1656"
            ]
          },
          "execution_count": 17,
          "metadata": {},
          "output_type": "execute_result"
        }
      ],
      "source": [
        "# Write your code here (10.1)\n",
        "\n",
        "# How many orders are there that take more than 5 days to process?\n",
        "order_df[order_df[\"Processing Time Day\"] > 5].shape[0]"
      ]
    },
    {
      "cell_type": "code",
      "execution_count": 18,
      "metadata": {},
      "outputs": [
        {
          "data": {
            "text/html": [
              "<div>\n",
              "<style scoped>\n",
              "    .dataframe tbody tr th:only-of-type {\n",
              "        vertical-align: middle;\n",
              "    }\n",
              "\n",
              "    .dataframe tbody tr th {\n",
              "        vertical-align: top;\n",
              "    }\n",
              "\n",
              "    .dataframe thead th {\n",
              "        text-align: right;\n",
              "    }\n",
              "</style>\n",
              "<table border=\"1\" class=\"dataframe\">\n",
              "  <thead>\n",
              "    <tr style=\"text-align: right;\">\n",
              "      <th></th>\n",
              "      <th>Order ID</th>\n",
              "      <th>Order Date</th>\n",
              "      <th>Ship Date</th>\n",
              "      <th>Processing Time Day</th>\n",
              "      <th>Quantity</th>\n",
              "    </tr>\n",
              "  </thead>\n",
              "  <tbody>\n",
              "    <tr>\n",
              "      <th>0</th>\n",
              "      <td>CA-2016-152156</td>\n",
              "      <td>2016-11-08</td>\n",
              "      <td>2016-11-11</td>\n",
              "      <td>3</td>\n",
              "      <td>2</td>\n",
              "    </tr>\n",
              "    <tr>\n",
              "      <th>1</th>\n",
              "      <td>CA-2016-152156</td>\n",
              "      <td>2016-11-08</td>\n",
              "      <td>2016-11-11</td>\n",
              "      <td>3</td>\n",
              "      <td>3</td>\n",
              "    </tr>\n",
              "    <tr>\n",
              "      <th>2</th>\n",
              "      <td>CA-2016-138688</td>\n",
              "      <td>2016-06-12</td>\n",
              "      <td>2016-06-16</td>\n",
              "      <td>4</td>\n",
              "      <td>2</td>\n",
              "    </tr>\n",
              "    <tr>\n",
              "      <th>3</th>\n",
              "      <td>US-2015-108966</td>\n",
              "      <td>2015-10-11</td>\n",
              "      <td>2015-10-18</td>\n",
              "      <td>7</td>\n",
              "      <td>5</td>\n",
              "    </tr>\n",
              "    <tr>\n",
              "      <th>4</th>\n",
              "      <td>US-2015-108966</td>\n",
              "      <td>2015-10-11</td>\n",
              "      <td>2015-10-18</td>\n",
              "      <td>7</td>\n",
              "      <td>2</td>\n",
              "    </tr>\n",
              "  </tbody>\n",
              "</table>\n",
              "</div>"
            ],
            "text/plain": [
              "         Order ID Order Date  Ship Date  Processing Time Day  Quantity\n",
              "0  CA-2016-152156 2016-11-08 2016-11-11                    3         2\n",
              "1  CA-2016-152156 2016-11-08 2016-11-11                    3         3\n",
              "2  CA-2016-138688 2016-06-12 2016-06-16                    4         2\n",
              "3  US-2015-108966 2015-10-11 2015-10-18                    7         5\n",
              "4  US-2015-108966 2015-10-11 2015-10-18                    7         2"
            ]
          },
          "execution_count": 18,
          "metadata": {},
          "output_type": "execute_result"
        }
      ],
      "source": [
        "# Write your code here (10.2)\n",
        "\n",
        "# Show the top 5 rows (expected output should contain these columns: Order ID, Order Date, Ship Date, Processing time day, Quantity)\n",
        "order_df[[\"Order ID\", \"Order Date\", \"Ship Date\", \"Processing Time Day\", \"Quantity\"]].head(5)"
      ]
    },
    {
      "cell_type": "code",
      "execution_count": 19,
      "metadata": {},
      "outputs": [
        {
          "data": {
            "image/png": "[encoded data removed]",
            "text/plain": [
              "<Figure size 640x480 with 1 Axes>"
            ]
          },
          "metadata": {},
          "output_type": "display_data"
        }
      ],
      "source": [
        "# Write your code here (10.3)\n",
        "\n",
        "# Plot the histogram based on the column Quantity\n",
        "order_df[\"Quantity\"].hist()\n",
        "plt.title(\"Quantity Distribution\")\n",
        "plt.show()"
      ]
    },
    {
      "cell_type": "markdown",
      "metadata": {
        "id": "WQ-e2mPHkvZ8"
      },
      "source": [
        "11. Total sales compare across different regions\n",
        "  \n",
        "- 11.1 Create a bar chart to visualize."
      ]
    },
    {
      "cell_type": "code",
      "execution_count": 20,
      "metadata": {
        "id": "urB9bQTGk2p-"
      },
      "outputs": [
        {
          "data": {
            "image/png": "[encoded data removed]",
            "text/plain": [
              "<Figure size 640x480 with 1 Axes>"
            ]
          },
          "metadata": {},
          "output_type": "display_data"
        }
      ],
      "source": [
        "# Write your code here (11.1)\n",
        "\n",
        "# List unique regions and their sales\n",
        "order_df.groupby(\"Region\")[\"Sales\"].sum().plot(kind=\"bar\")\n",
        "plt.title(\"Total Sales by Region\")\n",
        "plt.show()"
      ]
    },
    {
      "cell_type": "markdown",
      "metadata": {
        "id": "1dktxz6Ek_DT"
      },
      "source": [
        "- 11.2 How do total sales compare across different regions? Explain in as much detail as possible.\n",
        "  \n",
        "  Ans: West has highest sale ,followed by East, Central, and South respectively"
      ]
    },
    {
      "cell_type": "markdown",
      "metadata": {
        "id": "mntSNHvglEU2"
      },
      "source": [
        "12.Which states have the highest number of returns? Use a horizontal bar chart.\n",
        "\n",
        "Ans: Carifonia"
      ]
    },
    {
      "cell_type": "code",
      "execution_count": 21,
      "metadata": {},
      "outputs": [
        {
          "data": {
            "text/html": [
              "<div>\n",
              "<style scoped>\n",
              "    .dataframe tbody tr th:only-of-type {\n",
              "        vertical-align: middle;\n",
              "    }\n",
              "\n",
              "    .dataframe tbody tr th {\n",
              "        vertical-align: top;\n",
              "    }\n",
              "\n",
              "    .dataframe thead th {\n",
              "        text-align: right;\n",
              "    }\n",
              "</style>\n",
              "<table border=\"1\" class=\"dataframe\">\n",
              "  <thead>\n",
              "    <tr style=\"text-align: right;\">\n",
              "      <th></th>\n",
              "      <th>Row ID</th>\n",
              "      <th>Order ID</th>\n",
              "      <th>Order Date</th>\n",
              "      <th>Ship Date</th>\n",
              "      <th>Ship Mode</th>\n",
              "      <th>Customer ID</th>\n",
              "      <th>Customer Name</th>\n",
              "      <th>Segment</th>\n",
              "      <th>Country</th>\n",
              "      <th>City</th>\n",
              "      <th>...</th>\n",
              "      <th>Product ID</th>\n",
              "      <th>Category</th>\n",
              "      <th>Sub-Category</th>\n",
              "      <th>Product Name</th>\n",
              "      <th>Sales</th>\n",
              "      <th>Quantity</th>\n",
              "      <th>Discount</th>\n",
              "      <th>Profit</th>\n",
              "      <th>Processing Time Day</th>\n",
              "      <th>Returned</th>\n",
              "    </tr>\n",
              "  </thead>\n",
              "  <tbody>\n",
              "    <tr>\n",
              "      <th>0</th>\n",
              "      <td>19</td>\n",
              "      <td>CA-2014-143336</td>\n",
              "      <td>2014-08-27</td>\n",
              "      <td>2014-09-01</td>\n",
              "      <td>Second Class</td>\n",
              "      <td>ZD-21925</td>\n",
              "      <td>Zuschuss Donatelli</td>\n",
              "      <td>Consumer</td>\n",
              "      <td>United States</td>\n",
              "      <td>San Francisco</td>\n",
              "      <td>...</td>\n",
              "      <td>OFF-AR-10003056</td>\n",
              "      <td>Office Supplies</td>\n",
              "      <td>Art</td>\n",
              "      <td>Newell 341</td>\n",
              "      <td>8.56</td>\n",
              "      <td>2</td>\n",
              "      <td>0.0</td>\n",
              "      <td>2.4824</td>\n",
              "      <td>5</td>\n",
              "      <td>Yes</td>\n",
              "    </tr>\n",
              "    <tr>\n",
              "      <th>1</th>\n",
              "      <td>20</td>\n",
              "      <td>CA-2014-143336</td>\n",
              "      <td>2014-08-27</td>\n",
              "      <td>2014-09-01</td>\n",
              "      <td>Second Class</td>\n",
              "      <td>ZD-21925</td>\n",
              "      <td>Zuschuss Donatelli</td>\n",
              "      <td>Consumer</td>\n",
              "      <td>United States</td>\n",
              "      <td>San Francisco</td>\n",
              "      <td>...</td>\n",
              "      <td>TEC-PH-10001949</td>\n",
              "      <td>Technology</td>\n",
              "      <td>Phones</td>\n",
              "      <td>Cisco SPA 501G IP Phone</td>\n",
              "      <td>213.48</td>\n",
              "      <td>3</td>\n",
              "      <td>0.2</td>\n",
              "      <td>16.0110</td>\n",
              "      <td>5</td>\n",
              "      <td>Yes</td>\n",
              "    </tr>\n",
              "    <tr>\n",
              "      <th>2</th>\n",
              "      <td>21</td>\n",
              "      <td>CA-2014-143336</td>\n",
              "      <td>2014-08-27</td>\n",
              "      <td>2014-09-01</td>\n",
              "      <td>Second Class</td>\n",
              "      <td>ZD-21925</td>\n",
              "      <td>Zuschuss Donatelli</td>\n",
              "      <td>Consumer</td>\n",
              "      <td>United States</td>\n",
              "      <td>San Francisco</td>\n",
              "      <td>...</td>\n",
              "      <td>OFF-BI-10002215</td>\n",
              "      <td>Office Supplies</td>\n",
              "      <td>Binders</td>\n",
              "      <td>Wilson Jones Hanging View Binder White 1</td>\n",
              "      <td>22.72</td>\n",
              "      <td>4</td>\n",
              "      <td>0.2</td>\n",
              "      <td>7.3840</td>\n",
              "      <td>5</td>\n",
              "      <td>Yes</td>\n",
              "    </tr>\n",
              "    <tr>\n",
              "      <th>3</th>\n",
              "      <td>56</td>\n",
              "      <td>CA-2016-111682</td>\n",
              "      <td>2016-06-17</td>\n",
              "      <td>2016-06-18</td>\n",
              "      <td>First Class</td>\n",
              "      <td>TB-21055</td>\n",
              "      <td>Ted Butterfield</td>\n",
              "      <td>Consumer</td>\n",
              "      <td>United States</td>\n",
              "      <td>Troy</td>\n",
              "      <td>...</td>\n",
              "      <td>OFF-ST-10000604</td>\n",
              "      <td>Office Supplies</td>\n",
              "      <td>Storage</td>\n",
              "      <td>Home/Office Personal File Carts</td>\n",
              "      <td>208.56</td>\n",
              "      <td>6</td>\n",
              "      <td>0.0</td>\n",
              "      <td>52.1400</td>\n",
              "      <td>1</td>\n",
              "      <td>Yes</td>\n",
              "    </tr>\n",
              "    <tr>\n",
              "      <th>4</th>\n",
              "      <td>57</td>\n",
              "      <td>CA-2016-111682</td>\n",
              "      <td>2016-06-17</td>\n",
              "      <td>2016-06-18</td>\n",
              "      <td>First Class</td>\n",
              "      <td>TB-21055</td>\n",
              "      <td>Ted Butterfield</td>\n",
              "      <td>Consumer</td>\n",
              "      <td>United States</td>\n",
              "      <td>Troy</td>\n",
              "      <td>...</td>\n",
              "      <td>OFF-PA-10001569</td>\n",
              "      <td>Office Supplies</td>\n",
              "      <td>Paper</td>\n",
              "      <td>Xerox 232</td>\n",
              "      <td>32.40</td>\n",
              "      <td>5</td>\n",
              "      <td>0.0</td>\n",
              "      <td>15.5520</td>\n",
              "      <td>1</td>\n",
              "      <td>Yes</td>\n",
              "    </tr>\n",
              "  </tbody>\n",
              "</table>\n",
              "<p>5 rows × 23 columns</p>\n",
              "</div>"
            ],
            "text/plain": [
              "   Row ID        Order ID Order Date  Ship Date     Ship Mode Customer ID  \\\n",
              "0      19  CA-2014-143336 2014-08-27 2014-09-01  Second Class    ZD-21925   \n",
              "1      20  CA-2014-143336 2014-08-27 2014-09-01  Second Class    ZD-21925   \n",
              "2      21  CA-2014-143336 2014-08-27 2014-09-01  Second Class    ZD-21925   \n",
              "3      56  CA-2016-111682 2016-06-17 2016-06-18   First Class    TB-21055   \n",
              "4      57  CA-2016-111682 2016-06-17 2016-06-18   First Class    TB-21055   \n",
              "\n",
              "        Customer Name   Segment        Country           City  ...  \\\n",
              "0  Zuschuss Donatelli  Consumer  United States  San Francisco  ...   \n",
              "1  Zuschuss Donatelli  Consumer  United States  San Francisco  ...   \n",
              "2  Zuschuss Donatelli  Consumer  United States  San Francisco  ...   \n",
              "3     Ted Butterfield  Consumer  United States           Troy  ...   \n",
              "4     Ted Butterfield  Consumer  United States           Troy  ...   \n",
              "\n",
              "        Product ID         Category Sub-Category  \\\n",
              "0  OFF-AR-10003056  Office Supplies          Art   \n",
              "1  TEC-PH-10001949       Technology       Phones   \n",
              "2  OFF-BI-10002215  Office Supplies      Binders   \n",
              "3  OFF-ST-10000604  Office Supplies      Storage   \n",
              "4  OFF-PA-10001569  Office Supplies        Paper   \n",
              "\n",
              "                               Product Name   Sales Quantity Discount  \\\n",
              "0                                Newell 341    8.56        2      0.0   \n",
              "1                   Cisco SPA 501G IP Phone  213.48        3      0.2   \n",
              "2  Wilson Jones Hanging View Binder White 1   22.72        4      0.2   \n",
              "3           Home/Office Personal File Carts  208.56        6      0.0   \n",
              "4                                 Xerox 232   32.40        5      0.0   \n",
              "\n",
              "    Profit  Processing Time Day  Returned  \n",
              "0   2.4824                    5       Yes  \n",
              "1  16.0110                    5       Yes  \n",
              "2   7.3840                    5       Yes  \n",
              "3  52.1400                    1       Yes  \n",
              "4  15.5520                    1       Yes  \n",
              "\n",
              "[5 rows x 23 columns]"
            ]
          },
          "execution_count": 21,
          "metadata": {},
          "output_type": "execute_result"
        }
      ],
      "source": [
        "# Join returns_df with order_df using Order ID and show the first five rows\n",
        "result = pd.merge(order_df, returns_df, on=\"Order ID\", how=\"inner\")\n",
        "result.head()"
      ]
    },
    {
      "cell_type": "code",
      "execution_count": 22,
      "metadata": {
        "id": "9v3JfdS1lK4Y"
      },
      "outputs": [
        {
          "data": {
            "image/png": "[encoded data removed]",
            "text/plain": [
              "<Figure size 640x480 with 1 Axes>"
            ]
          },
          "metadata": {},
          "output_type": "display_data"
        }
      ],
      "source": [
        "# Write your code here (12)\n",
        "\n",
        "result.groupby(\"State\")[\"Returned\"].count().sort_values().plot(kind=\"bar\")\n",
        "plt.title(\"Total Returns by State\")\n",
        "plt.show()"
      ]
    },
    {
      "cell_type": "markdown",
      "metadata": {
        "id": "duylALg5ldoG"
      },
      "source": [
        "13. What is the correlation between numerical variables in the superstore_order dataset? Use a heatmap\n",
        "*Hint: Use seaborn to create a heatmap :)*"
      ]
    },
    {
      "cell_type": "code",
      "execution_count": 23,
      "metadata": {
        "id": "aMKnDEKSleUC"
      },
      "outputs": [
        {
          "data": {
            "text/plain": [
              "<Axes: >"
            ]
          },
          "execution_count": 23,
          "metadata": {},
          "output_type": "execute_result"
        },
        {
          "data": {
            "image/png": "[encoded data removed]",
            "text/plain": [
              "<Figure size 640x480 with 2 Axes>"
            ]
          },
          "metadata": {},
          "output_type": "display_data"
        }
      ],
      "source": [
        "# Write your code here (13)\n",
        "import seaborn as sns\n",
        "\n",
        "# Selecting numerical columns\n",
        "numeric_cols = [\"Sales\", \"Quantity\", \"Discount\", \"Profit\"]\n",
        "\n",
        "# Compute correlation matrix\n",
        "corr_matrix = order_df[numeric_cols].corr()\n",
        "\n",
        "# Plot the heatmap\n",
        "sns.heatmap(corr_matrix, annot=True, cmap=\"coolwarm\", fmt=\".2f\", linewidths=0.5)"
      ]
    },
    {
      "cell_type": "markdown",
      "metadata": {
        "id": "Qovd-spYluFP"
      },
      "source": [
        "14. Create a USA State-Level Choropleth Map to visualize total sales per state.\n",
        "\n",
        "*   The darkest color represents the highest total sales.\n",
        "*   The lightest color represents the lowest total sales.\n",
        "*   Use a continuous gradient scale (e.g., dark blue to light blue, dark red to light red, or any custom gradient of your choice).\n",
        "\n",
        "*Hint: Use plotly.express*"
      ]
    },
    {
      "cell_type": "code",
      "execution_count": 24,
      "metadata": {
        "id": "JZ9pgEuGm2_9"
      },
      "outputs": [
        {
          "data": {
            "application/vnd.plotly.v1+json": {
              "config": {
                "plotlyServerURL": "https://plot.ly"
              },
              "data": [
                {
                  "coloraxis": "coloraxis",
                  "geo": "geo",
                  "hovertemplate": "State=%{location}<br>Sales=%{z}<extra></extra>",
                  "locationmode": "USA-states",
                  "locations": [
                    "AL",
                    "AZ",
                    "AR",
                    "CA",
                    "CO",
                    "CT",
                    "DE",
                    null,
                    "FL",
                    "GA",
                    "ID",
                    "IL",
                    "IN",
                    "IA",
                    "KS",
                    "KY",
                    "LA",
                    "ME",
                    "MD",
                    "MA",
                    "MI",
                    "MN",
                    "MS",
                    "MO",
                    "MT",
                    "NE",
                    "NV",
                    "NH",
                    "NJ",
                    "NM",
                    "NY",
                    "NC",
                    "ND",
                    "OH",
                    "OK",
                    "OR",
                    "PA",
                    "RI",
                    "SC",
                    "SD",
                    "TN",
                    "TX",
                    "UT",
                    "VT",
                    "VA",
                    "WA",
                    "WV",
                    "WI",
                    "WY"
                  ],
                  "name": "",
                  "type": "choropleth",
                  "z": {
                    "bdata": "w/UoXB/S0kCsHFpkwxvgQB+F61G4acJAjZdu0m1dGEElBoGVM1reQPCnxkuHDslAf2q8dNvC2UDXo3A9CmKmQCGwcmgxh/RAR+F6FIZo50B1kxgE1qGwQCuHFtkCcvFArkfheuSM50DXo3A9CtuwQIXrUbiexKZAexSuR6Go30DXo3A9iqW9QOJ6FK5Ha4RAy6FFtmua1kCe76fGa6DYQMDKoUV2WO5AZmZmZoaR3ECPwvUoHE3EQLgehetRfctAMQisHFrVtUDrUbgeBXG7QJvEILASO85AqvHSTeIju0BYObTIVnrgQAwCK4cWhrFAnu+nRsvGEEEZBFYORWXoQOF6FK5Hv4xAlUOLbEOV8EDNzMzMzCbRQBfZzveDXM5AlBgEVsha+UDJdr6fCvHVQBSuR+HakMBACtejcD0olED2KFyPuonaQO7rwDl4DAJBSgwCKwfqxUApXI/C9U2hQD4K16MQj+9AxCCwchxl/kCkcD0K18OAQJqZmZk5B9tABoGVQ4sMmUA=",
                    "dtype": "f8"
                  }
                }
              ],
              "layout": {
                "coloraxis": {
                  "colorbar": {
                    "title": {
                      "text": "Sales"
                    }
                  },
                  "colorscale": [
                    [
                      0,
                      "rgb(247,251,255)"
                    ],
                    [
                      0.125,
                      "rgb(222,235,247)"
                    ],
                    [
                      0.25,
                      "rgb(198,219,239)"
                    ],
                    [
                      0.375,
                      "rgb(158,202,225)"
                    ],
                    [
                      0.5,
                      "rgb(107,174,214)"
                    ],
                    [
                      0.625,
                      "rgb(66,146,198)"
                    ],
                    [
                      0.75,
                      "rgb(33,113,181)"
                    ],
                    [
                      0.875,
                      "rgb(8,81,156)"
                    ],
                    [
                      1,
                      "rgb(8,48,107)"
                    ]
                  ]
                },
                "geo": {
                  "center": {},
                  "domain": {
                    "x": [
                      0,
                      1
                    ],
                    "y": [
                      0,
                      1
                    ]
                  },
                  "scope": "usa"
                },
                "legend": {
                  "tracegroupgap": 0
                },
                "template": {
                  "data": {
                    "bar": [
                      {
                        "error_x": {
                          "color": "#2a3f5f"
                        },
                        "error_y": {
                          "color": "#2a3f5f"
                        },
                        "marker": {
                          "line": {
                            "color": "#E5ECF6",
                            "width": 0.5
                          },
                          "pattern": {
                            "fillmode": "overlay",
                            "size": 10,
                            "solidity": 0.2
                          }
                        },
                        "type": "bar"
                      }
                    ],
                    "barpolar": [
                      {
                        "marker": {
                          "line": {
                            "color": "#E5ECF6",
                            "width": 0.5
                          },
                          "pattern": {
                            "fillmode": "overlay",
                            "size": 10,
                            "solidity": 0.2
                          }
                        },
                        "type": "barpolar"
                      }
                    ],
                    "carpet": [
                      {
                        "aaxis": {
                          "endlinecolor": "#2a3f5f",
                          "gridcolor": "white",
                          "linecolor": "white",
                          "minorgridcolor": "white",
                          "startlinecolor": "#2a3f5f"
                        },
                        "baxis": {
                          "endlinecolor": "#2a3f5f",
                          "gridcolor": "white",
                          "linecolor": "white",
                          "minorgridcolor": "white",
                          "startlinecolor": "#2a3f5f"
                        },
                        "type": "carpet"
                      }
                    ],
                    "choropleth": [
                      {
                        "colorbar": {
                          "outlinewidth": 0,
                          "ticks": ""
                        },
                        "type": "choropleth"
                      }
                    ],
                    "contour": [
                      {
                        "colorbar": {
                          "outlinewidth": 0,
                          "ticks": ""
                        },
                        "colorscale": [
                          [
                            0,
                            "#0d0887"
                          ],
                          [
                            0.1111111111111111,
                            "#46039f"
                          ],
                          [
                            0.2222222222222222,
                            "#7201a8"
                          ],
                          [
                            0.3333333333333333,
                            "#9c179e"
                          ],
                          [
                            0.4444444444444444,
                            "#bd3786"
                          ],
                          [
                            0.5555555555555556,
                            "#d8576b"
                          ],
                          [
                            0.6666666666666666,
                            "#ed7953"
                          ],
                          [
                            0.7777777777777778,
                            "#fb9f3a"
                          ],
                          [
                            0.8888888888888888,
                            "#fdca26"
                          ],
                          [
                            1,
                            "#f0f921"
                          ]
                        ],
                        "type": "contour"
                      }
                    ],
                    "contourcarpet": [
                      {
                        "colorbar": {
                          "outlinewidth": 0,
                          "ticks": ""
                        },
                        "type": "contourcarpet"
                      }
                    ],
                    "heatmap": [
                      {
                        "colorbar": {
                          "outlinewidth": 0,
                          "ticks": ""
                        },
                        "colorscale": [
                          [
                            0,
                            "#0d0887"
                          ],
                          [
                            0.1111111111111111,
                            "#46039f"
                          ],
                          [
                            0.2222222222222222,
                            "#7201a8"
                          ],
                          [
                            0.3333333333333333,
                            "#9c179e"
                          ],
                          [
                            0.4444444444444444,
                            "#bd3786"
                          ],
                          [
                            0.5555555555555556,
                            "#d8576b"
                          ],
                          [
                            0.6666666666666666,
                            "#ed7953"
                          ],
                          [
                            0.7777777777777778,
                            "#fb9f3a"
                          ],
                          [
                            0.8888888888888888,
                            "#fdca26"
                          ],
                          [
                            1,
                            "#f0f921"
                          ]
                        ],
                        "type": "heatmap"
                      }
                    ],
                    "histogram": [
                      {
                        "marker": {
                          "pattern": {
                            "fillmode": "overlay",
                            "size": 10,
                            "solidity": 0.2
                          }
                        },
                        "type": "histogram"
                      }
                    ],
                    "histogram2d": [
                      {
                        "colorbar": {
                          "outlinewidth": 0,
                          "ticks": ""
                        },
                        "colorscale": [
                          [
                            0,
                            "#0d0887"
                          ],
                          [
                            0.1111111111111111,
                            "#46039f"
                          ],
                          [
                            0.2222222222222222,
                            "#7201a8"
                          ],
                          [
                            0.3333333333333333,
                            "#9c179e"
                          ],
                          [
                            0.4444444444444444,
                            "#bd3786"
                          ],
                          [
                            0.5555555555555556,
                            "#d8576b"
                          ],
                          [
                            0.6666666666666666,
                            "#ed7953"
                          ],
                          [
                            0.7777777777777778,
                            "#fb9f3a"
                          ],
                          [
                            0.8888888888888888,
                            "#fdca26"
                          ],
                          [
                            1,
                            "#f0f921"
                          ]
                        ],
                        "type": "histogram2d"
                      }
                    ],
                    "histogram2dcontour": [
                      {
                        "colorbar": {
                          "outlinewidth": 0,
                          "ticks": ""
                        },
                        "colorscale": [
                          [
                            0,
                            "#0d0887"
                          ],
                          [
                            0.1111111111111111,
                            "#46039f"
                          ],
                          [
                            0.2222222222222222,
                            "#7201a8"
                          ],
                          [
                            0.3333333333333333,
                            "#9c179e"
                          ],
                          [
                            0.4444444444444444,
                            "#bd3786"
                          ],
                          [
                            0.5555555555555556,
                            "#d8576b"
                          ],
                          [
                            0.6666666666666666,
                            "#ed7953"
                          ],
                          [
                            0.7777777777777778,
                            "#fb9f3a"
                          ],
                          [
                            0.8888888888888888,
                            "#fdca26"
                          ],
                          [
                            1,
                            "#f0f921"
                          ]
                        ],
                        "type": "histogram2dcontour"
                      }
                    ],
                    "mesh3d": [
                      {
                        "colorbar": {
                          "outlinewidth": 0,
                          "ticks": ""
                        },
                        "type": "mesh3d"
                      }
                    ],
                    "parcoords": [
                      {
                        "line": {
                          "colorbar": {
                            "outlinewidth": 0,
                            "ticks": ""
                          }
                        },
                        "type": "parcoords"
                      }
                    ],
                    "pie": [
                      {
                        "automargin": true,
                        "type": "pie"
                      }
                    ],
                    "scatter": [
                      {
                        "fillpattern": {
                          "fillmode": "overlay",
                          "size": 10,
                          "solidity": 0.2
                        },
                        "type": "scatter"
                      }
                    ],
                    "scatter3d": [
                      {
                        "line": {
                          "colorbar": {
                            "outlinewidth": 0,
                            "ticks": ""
                          }
                        },
                        "marker": {
                          "colorbar": {
                            "outlinewidth": 0,
                            "ticks": ""
                          }
                        },
                        "type": "scatter3d"
                      }
                    ],
                    "scattercarpet": [
                      {
                        "marker": {
                          "colorbar": {
                            "outlinewidth": 0,
                            "ticks": ""
                          }
                        },
                        "type": "scattercarpet"
                      }
                    ],
                    "scattergeo": [
                      {
                        "marker": {
                          "colorbar": {
                            "outlinewidth": 0,
                            "ticks": ""
                          }
                        },
                        "type": "scattergeo"
                      }
                    ],
                    "scattergl": [
                      {
                        "marker": {
                          "colorbar": {
                            "outlinewidth": 0,
                            "ticks": ""
                          }
                        },
                        "type": "scattergl"
                      }
                    ],
                    "scattermap": [
                      {
                        "marker": {
                          "colorbar": {
                            "outlinewidth": 0,
                            "ticks": ""
                          }
                        },
                        "type": "scattermap"
                      }
                    ],
                    "scattermapbox": [
                      {
                        "marker": {
                          "colorbar": {
                            "outlinewidth": 0,
                            "ticks": ""
                          }
                        },
                        "type": "scattermapbox"
                      }
                    ],
                    "scatterpolar": [
                      {
                        "marker": {
                          "colorbar": {
                            "outlinewidth": 0,
                            "ticks": ""
                          }
                        },
                        "type": "scatterpolar"
                      }
                    ],
                    "scatterpolargl": [
                      {
                        "marker": {
                          "colorbar": {
                            "outlinewidth": 0,
                            "ticks": ""
                          }
                        },
                        "type": "scatterpolargl"
                      }
                    ],
                    "scatterternary": [
                      {
                        "marker": {
                          "colorbar": {
                            "outlinewidth": 0,
                            "ticks": ""
                          }
                        },
                        "type": "scatterternary"
                      }
                    ],
                    "surface": [
                      {
                        "colorbar": {
                          "outlinewidth": 0,
                          "ticks": ""
                        },
                        "colorscale": [
                          [
                            0,
                            "#0d0887"
                          ],
                          [
                            0.1111111111111111,
                            "#46039f"
                          ],
                          [
                            0.2222222222222222,
                            "#7201a8"
                          ],
                          [
                            0.3333333333333333,
                            "#9c179e"
                          ],
                          [
                            0.4444444444444444,
                            "#bd3786"
                          ],
                          [
                            0.5555555555555556,
                            "#d8576b"
                          ],
                          [
                            0.6666666666666666,
                            "#ed7953"
                          ],
                          [
                            0.7777777777777778,
                            "#fb9f3a"
                          ],
                          [
                            0.8888888888888888,
                            "#fdca26"
                          ],
                          [
                            1,
                            "#f0f921"
                          ]
                        ],
                        "type": "surface"
                      }
                    ],
                    "table": [
                      {
                        "cells": {
                          "fill": {
                            "color": "#EBF0F8"
                          },
                          "line": {
                            "color": "white"
                          }
                        },
                        "header": {
                          "fill": {
                            "color": "#C8D4E3"
                          },
                          "line": {
                            "color": "white"
                          }
                        },
                        "type": "table"
                      }
                    ]
                  },
                  "layout": {
                    "annotationdefaults": {
                      "arrowcolor": "#2a3f5f",
                      "arrowhead": 0,
                      "arrowwidth": 1
                    },
                    "autotypenumbers": "strict",
                    "coloraxis": {
                      "colorbar": {
                        "outlinewidth": 0,
                        "ticks": ""
                      }
                    },
                    "colorscale": {
                      "diverging": [
                        [
                          0,
                          "#8e0152"
                        ],
                        [
                          0.1,
                          "#c51b7d"
                        ],
                        [
                          0.2,
                          "#de77ae"
                        ],
                        [
                          0.3,
                          "#f1b6da"
                        ],
                        [
                          0.4,
                          "#fde0ef"
                        ],
                        [
                          0.5,
                          "#f7f7f7"
                        ],
                        [
                          0.6,
                          "#e6f5d0"
                        ],
                        [
                          0.7,
                          "#b8e186"
                        ],
                        [
                          0.8,
                          "#7fbc41"
                        ],
                        [
                          0.9,
                          "#4d9221"
                        ],
                        [
                          1,
                          "#276419"
                        ]
                      ],
                      "sequential": [
                        [
                          0,
                          "#0d0887"
                        ],
                        [
                          0.1111111111111111,
                          "#46039f"
                        ],
                        [
                          0.2222222222222222,
                          "#7201a8"
                        ],
                        [
                          0.3333333333333333,
                          "#9c179e"
                        ],
                        [
                          0.4444444444444444,
                          "#bd3786"
                        ],
                        [
                          0.5555555555555556,
                          "#d8576b"
                        ],
                        [
                          0.6666666666666666,
                          "#ed7953"
                        ],
                        [
                          0.7777777777777778,
                          "#fb9f3a"
                        ],
                        [
                          0.8888888888888888,
                          "#fdca26"
                        ],
                        [
                          1,
                          "#f0f921"
                        ]
                      ],
                      "sequentialminus": [
                        [
                          0,
                          "#0d0887"
                        ],
                        [
                          0.1111111111111111,
                          "#46039f"
                        ],
                        [
                          0.2222222222222222,
                          "#7201a8"
                        ],
                        [
                          0.3333333333333333,
                          "#9c179e"
                        ],
                        [
                          0.4444444444444444,
                          "#bd3786"
                        ],
                        [
                          0.5555555555555556,
                          "#d8576b"
                        ],
                        [
                          0.6666666666666666,
                          "#ed7953"
                        ],
                        [
                          0.7777777777777778,
                          "#fb9f3a"
                        ],
                        [
                          0.8888888888888888,
                          "#fdca26"
                        ],
                        [
                          1,
                          "#f0f921"
                        ]
                      ]
                    },
                    "colorway": [
                      "#636efa",
                      "#EF553B",
                      "#00cc96",
                      "#ab63fa",
                      "#FFA15A",
                      "#19d3f3",
                      "#FF6692",
                      "#B6E880",
                      "#FF97FF",
                      "#FECB52"
                    ],
                    "font": {
                      "color": "#2a3f5f"
                    },
                    "geo": {
                      "bgcolor": "white",
                      "lakecolor": "white",
                      "landcolor": "#E5ECF6",
                      "showlakes": true,
                      "showland": true,
                      "subunitcolor": "white"
                    },
                    "hoverlabel": {
                      "align": "left"
                    },
                    "hovermode": "closest",
                    "mapbox": {
                      "style": "light"
                    },
                    "paper_bgcolor": "white",
                    "plot_bgcolor": "#E5ECF6",
                    "polar": {
                      "angularaxis": {
                        "gridcolor": "white",
                        "linecolor": "white",
                        "ticks": ""
                      },
                      "bgcolor": "#E5ECF6",
                      "radialaxis": {
                        "gridcolor": "white",
                        "linecolor": "white",
                        "ticks": ""
                      }
                    },
                    "scene": {
                      "xaxis": {
                        "backgroundcolor": "#E5ECF6",
                        "gridcolor": "white",
                        "gridwidth": 2,
                        "linecolor": "white",
                        "showbackground": true,
                        "ticks": "",
                        "zerolinecolor": "white"
                      },
                      "yaxis": {
                        "backgroundcolor": "#E5ECF6",
                        "gridcolor": "white",
                        "gridwidth": 2,
                        "linecolor": "white",
                        "showbackground": true,
                        "ticks": "",
                        "zerolinecolor": "white"
                      },
                      "zaxis": {
                        "backgroundcolor": "#E5ECF6",
                        "gridcolor": "white",
                        "gridwidth": 2,
                        "linecolor": "white",
                        "showbackground": true,
                        "ticks": "",
                        "zerolinecolor": "white"
                      }
                    },
                    "shapedefaults": {
                      "line": {
                        "color": "#2a3f5f"
                      }
                    },
                    "ternary": {
                      "aaxis": {
                        "gridcolor": "white",
                        "linecolor": "white",
                        "ticks": ""
                      },
                      "baxis": {
                        "gridcolor": "white",
                        "linecolor": "white",
                        "ticks": ""
                      },
                      "bgcolor": "#E5ECF6",
                      "caxis": {
                        "gridcolor": "white",
                        "linecolor": "white",
                        "ticks": ""
                      }
                    },
                    "title": {
                      "x": 0.05
                    },
                    "xaxis": {
                      "automargin": true,
                      "gridcolor": "white",
                      "linecolor": "white",
                      "ticks": "",
                      "title": {
                        "standoff": 15
                      },
                      "zerolinecolor": "white",
                      "zerolinewidth": 2
                    },
                    "yaxis": {
                      "automargin": true,
                      "gridcolor": "white",
                      "linecolor": "white",
                      "ticks": "",
                      "title": {
                        "standoff": 15
                      },
                      "zerolinecolor": "white",
                      "zerolinewidth": 2
                    }
                  }
                },
                "title": {
                  "text": "Total Sales per State"
                }
              }
            }
          },
          "metadata": {},
          "output_type": "display_data"
        }
      ],
      "source": [
        "# Write your code here (14)\n",
        "import plotly.express as px\n",
        "\n",
        "# Dictionary mapping full state names to abbreviations\n",
        "state_abbrev = {\n",
        "    \"Alabama\": \"AL\", \"Alaska\": \"AK\", \"Arizona\": \"AZ\", \"Arkansas\": \"AR\", \"California\": \"CA\",\n",
        "    \"Colorado\": \"CO\", \"Connecticut\": \"CT\", \"Delaware\": \"DE\", \"Florida\": \"FL\", \"Georgia\": \"GA\",\n",
        "    \"Hawaii\": \"HI\", \"Idaho\": \"ID\", \"Illinois\": \"IL\", \"Indiana\": \"IN\", \"Iowa\": \"IA\",\n",
        "    \"Kansas\": \"KS\", \"Kentucky\": \"KY\", \"Louisiana\": \"LA\", \"Maine\": \"ME\", \"Maryland\": \"MD\",\n",
        "    \"Massachusetts\": \"MA\", \"Michigan\": \"MI\", \"Minnesota\": \"MN\", \"Mississippi\": \"MS\", \"Missouri\": \"MO\",\n",
        "    \"Montana\": \"MT\", \"Nebraska\": \"NE\", \"Nevada\": \"NV\", \"New Hampshire\": \"NH\", \"New Jersey\": \"NJ\",\n",
        "    \"New Mexico\": \"NM\", \"New York\": \"NY\", \"North Carolina\": \"NC\", \"North Dakota\": \"ND\", \"Ohio\": \"OH\",\n",
        "    \"Oklahoma\": \"OK\", \"Oregon\": \"OR\", \"Pennsylvania\": \"PA\", \"Rhode Island\": \"RI\", \"South Carolina\": \"SC\",\n",
        "    \"South Dakota\": \"SD\", \"Tennessee\": \"TN\", \"Texas\": \"TX\", \"Utah\": \"UT\", \"Vermont\": \"VT\",\n",
        "    \"Virginia\": \"VA\", \"Washington\": \"WA\", \"West Virginia\": \"WV\", \"Wisconsin\": \"WI\", \"Wyoming\": \"WY\"\n",
        "}\n",
        "\n",
        "state_sales = order_df.groupby(\"State\")[\"Sales\"].sum().reset_index()\n",
        "\n",
        "# Map full state names to abbreviations\n",
        "state_sales[\"State\"] = state_sales[\"State\"].map(state_abbrev)\n",
        "\n",
        "# Create the choropleth map\n",
        "fig = px.choropleth(state_sales, \n",
        "                    locations=\"State\",  # Now using abbreviations\n",
        "                    locationmode=\"USA-states\", \n",
        "                    color=\"Sales\", \n",
        "                    scope=\"usa\", \n",
        "                    color_continuous_scale=\"Blues\", \n",
        "                    title=\"Total Sales per State\")\n",
        "\n",
        "fig.show()"
      ]
    },
    {
      "cell_type": "markdown",
      "metadata": {
        "id": "Xp5PD5hpl0FJ"
      },
      "source": [
        "  14.2 Answer the following questions:\n",
        "1.   Which state has the highest total sales?\n",
        "2.   How do sales anomalies affect the gradient color shading on the map?\n",
        "3.   If you change the color scale, does it impact readability? Why or why not?"
      ]
    },
    {
      "cell_type": "markdown",
      "metadata": {
        "id": "0Z0fDrqRmwOp"
      },
      "source": [
        "Ans:\n",
        "\n",
        "\n",
        "1.   Cerifonia\n",
        "2.   Yes if some number is much higher linear scale color is some only very high number\n",
        "3.   If color scale change it gonna impact readabillity, linear scale can show top number log scale better at visulize wider number  \n",
        "\n"
      ]
    },
    {
      "cell_type": "markdown",
      "metadata": {
        "id": "XQ_INALln2eF"
      },
      "source": [
        "15. Create a box plot to compare the different shipping modes based on total profit."
      ]
    },
    {
      "cell_type": "code",
      "execution_count": 47,
      "metadata": {},
      "outputs": [
        {
          "name": "stderr",
          "output_type": "stream",
          "text": [
            "/tmp/ipykernel_101696/3513117353.py:2: FutureWarning:\n",
            "\n",
            "\n",
            "\n",
            "Passing `palette` without assigning `hue` is deprecated and will be removed in v0.14.0. Assign the `x` variable to `hue` and set `legend=False` for the same effect.\n",
            "\n",
            "\n"
          ]
        },
        {
          "data": {
            "image/png": "[encoded data removed]",
            "text/plain": [
              "<Figure size 640x480 with 1 Axes>"
            ]
          },
          "metadata": {},
          "output_type": "display_data"
        }
      ],
      "source": [
        "# Create the boxplot with a colorful palette\n",
        "sns.boxplot(data=order_df, x='Ship Mode', y='Profit', palette=\"Set2\")\n",
        "\n",
        "# Add labels and title\n",
        "plt.title(\"Profit Distribution by Shipping Mode\")\n",
        "plt.xlabel(\"Shipping Mode\")\n",
        "plt.ylabel(\"Profit\")\n",
        "\n",
        "# Show the plot\n",
        "plt.show()"
      ]
    },
    {
      "cell_type": "code",
      "execution_count": 48,
      "metadata": {},
      "outputs": [
        {
          "data": {
            "text/plain": [
              "Ship Mode\n",
              "First Class       8.79255\n",
              "Same Day          8.43490\n",
              "Second Class      9.76080\n",
              "Standard Class    8.31040\n",
              "Name: Profit, dtype: float64"
            ]
          },
          "execution_count": 48,
          "metadata": {},
          "output_type": "execute_result"
        }
      ],
      "source": [
        "# Find median of each shipping mode\n",
        "order_df.groupby(\"Ship Mode\")[\"Profit\"].median()"
      ]
    },
    {
      "cell_type": "markdown",
      "metadata": {
        "id": "ik5DyUTEoLpP"
      },
      "source": [
        "15.2 Which shipping mode has the highest median profit?\n",
        "\n",
        "Ans:    Second Class"
      ]
    },
    {
      "cell_type": "markdown",
      "metadata": {
        "id": "dHqMrn2WyK5E"
      },
      "source": [
        "[BONUS 20 pts] Determine the percentage of customers who:\n",
        "- B1)returned the product once\n",
        "- B2) returned the product at least once\n",
        "- B3) never returned the product\n",
        "- Finally, Plot a comparison of B2 and B3\n",
        "\n",
        "*Note: please create additional cells to answer the above points*"
      ]
    },
    {
      "cell_type": "code",
      "execution_count": 49,
      "metadata": {
        "id": "UvzcocHzyK5E"
      },
      "outputs": [
        {
          "name": "stdout",
          "output_type": "stream",
          "text": [
            "Percentage of customers who returned the product once: 7.86%\n",
            "Percentage of customers who returned the product at least once: 28.14%\n",
            "Percentage of customers who never returned the product: 71.86%\n"
          ]
        },
        {
          "data": {
            "image/png": "[encoded data removed]",
            "text/plain": [
              "<Figure size 640x480 with 1 Axes>"
            ]
          },
          "metadata": {},
          "output_type": "display_data"
        }
      ],
      "source": [
        "# Write your code here\n",
        "# Determine the percentage of customers who returned the product once\n",
        "returned_once = result.groupby(\"Customer ID\")[\"Returned\"].count().value_counts().get(1, 0)\n",
        "total_customers = order_df[\"Customer ID\"].nunique()\n",
        "percentage_returned_once = (returned_once / total_customers) * 100\n",
        "\n",
        "# Determine the percentage of customers who returned the product at least once\n",
        "returned_at_least_once = result[\"Customer ID\"].nunique()\n",
        "percentage_returned_at_least_once = (returned_at_least_once / total_customers) * 100\n",
        "\n",
        "# Determine the percentage of customers who never returned the product\n",
        "never_returned = total_customers - returned_at_least_once\n",
        "percentage_never_returned = (never_returned / total_customers) * 100\n",
        "\n",
        "# Print the results\n",
        "print(f\"Percentage of customers who returned the product once: {percentage_returned_once:.2f}%\")\n",
        "print(f\"Percentage of customers who returned the product at least once: {percentage_returned_at_least_once:.2f}%\")\n",
        "print(f\"Percentage of customers who never returned the product: {percentage_never_returned:.2f}%\")\n",
        "\n",
        "# Plot a comparison of B2 and B3\n",
        "labels = ['Returned at least once', 'Never returned']\n",
        "sizes = [percentage_returned_at_least_once, percentage_never_returned]\n",
        "colors = ['#ff9999','#66b3ff']\n",
        "explode = (0.1, 0)  # explode the 1st slice\n",
        "\n",
        "plt.pie(sizes, explode=explode, labels=labels, colors=colors, autopct='%1.1f%%', shadow=True, startangle=140)\n",
        "plt.title(\"Comparison of Customers Who Returned Products\")\n",
        "plt.axis('equal')  # Equal aspect ratio ensures that pie is drawn as a circle.\n",
        "plt.show()"
      ]
    }
  ],
  "metadata": {
    "colab": {
      "provenance": []
    },
    "kernelspec": {
      "display_name": ".venv",
      "language": "python",
      "name": "python3"
    },
    "language_info": {
      "codemirror_mode": {
        "name": "ipython",
        "version": 3
      },
      "file_extension": ".py",
      "mimetype": "text/x-python",
      "name": "python",
      "nbconvert_exporter": "python",
      "pygments_lexer": "ipython3",
      "version": "3.12.3"
    },
    "orig_nbformat": 4
  },
  "nbformat": 4,
  "nbformat_minor": 0
}
